{
  "nbformat": 4,
  "nbformat_minor": 0,
  "metadata": {
    "colab": {
      "provenance": [],
      "collapsed_sections": [
        "UdYpkic3rAU2",
        "-xrLWLu8t94G"
      ]
    },
    "kernelspec": {
      "name": "python3",
      "display_name": "Python 3"
    },
    "language_info": {
      "name": "python"
    }
  },
  "cells": [
    {
      "cell_type": "markdown",
      "source": [
        "# Proyecto Final - Clasificación de Posibles Deudores"
      ],
      "metadata": {
        "id": "rzM-izX7VEfY"
      }
    },
    {
      "cell_type": "markdown",
      "source": [
        "Hecho para la clase de Ciencia de Datos en CETYS Universidad LINI S7. Entregado el 5 de diciembre de 2022.\n",
        "\n",
        "Hecho por: Alondra Guzman, Armando Lira, Angel Jurado, Natasha Lopez y Jackeline Lobato."
      ],
      "metadata": {
        "id": "Hy5Js84o4iKG"
      }
    },
    {
      "cell_type": "markdown",
      "source": [
        "## Importación de librerías"
      ],
      "metadata": {
        "id": "ZUZ913dpttac"
      }
    },
    {
      "cell_type": "code",
      "source": [
        "# Importamos librerias para...\n",
        "import pandas as pd # Manejar datos\n",
        "import numpy as np # x2\n",
        "import seaborn as sns # Graficar\n",
        "from sklearn.svm import SVC # Clasificador que utiliza un Support Vector Machine\n",
        "from sklearn.feature_selection import RFECV # Herramienta que facilita la selección de variables para los modelos\n",
        "from sklearn.model_selection import GridSearchCV # Herramienta que facilita la optimización de parámetros para los modelos\n",
        "from sklearn.metrics import accuracy_score # Nos permite saber que tan correcto es nuestra predicción\n",
        "from sklearn.ensemble import RandomForestClassifier # Otro modelo para clasificación, usa un conjunto de decision trees\n",
        "from sklearn.model_selection import train_test_split # Herramienta que permite la creación de conjuntos para entrenamiento y prueba\n",
        "from sklearn.neighbors import KNeighborsClassifier # Modelo de clasificación que utiliza K Nearest Neighbors\n",
        "from sklearn.neural_network import MLPClassifier # Modelo de clasificación que hace uso de redes neuronales\n",
        "from copy import deepcopy as dc \n",
        "\n",
        "pd.set_option('display.max_columns', None)"
      ],
      "metadata": {
        "id": "EwuZVRid_ZYy"
      },
      "execution_count": 3,
      "outputs": []
    },
    {
      "cell_type": "markdown",
      "source": [
        "## Carga de datos"
      ],
      "metadata": {
        "id": "AOCEx9krty5x"
      }
    },
    {
      "cell_type": "code",
      "source": [
        "# Cargamos conjunto de datos\n",
        "credit = pd.read_csv(\"https://online.stat.psu.edu/onlinecourses/sites/stat508/files/german_credit.csv\")\n",
        "credit_names_short = [\"creditability\", \"balance\", \"durcredit\", \"statusprevcredit\", \"purpose\", \"amount\", \"savings\", \"lenemployment\", \"instalment\",\n",
        "                      \"sexmarital\", \"guarantors\", \"duraddress\", \"mostvalasset\", \"age\", \"concurrent\", \"apartment\", \"numcreditsbank\", \"occupation\",\n",
        "                      \"numdependents\", \"phone\", \"foreignworker\"] # Definimos nombres cortos para las columnas\n",
        "\n",
        "credit_names_long = list(credit.columns)\n",
        "credit_names = dict(zip(credit_names_short, credit_names_long)) # Usamos dict() y zip() para hacer un diccionario que al insertar el nombre corto nos da el nombre largo\n",
        "credit.columns = credit_names_short # Asignamos los nombres cortos a los nombres de las columnas del conjunto\n",
        "\n",
        "# \"phone\" y \"foreignworker\" ambas son variables binarias, para mantener al conjunto consistente decidimos que ambas representen a Si como 1 y No como 0\n",
        "# En el conjunto original, en phone 1 es no y 2 es si, mientras que foreignworker es al revés\n",
        "credit[\"phone\"] = credit[\"phone\"].map(lambda x: {1 : 0, 2 : 1}[x])\n",
        "credit[\"foreignworker\"] = credit[\"foreignworker\"].map(lambda x: {1 : 1, 2 : 0}[x])"
      ],
      "metadata": {
        "id": "OAS7ip15_h5v"
      },
      "execution_count": 4,
      "outputs": []
    },
    {
      "cell_type": "markdown",
      "source": [
        "## Análisis exploratorio"
      ],
      "metadata": {
        "id": "vUFSLjcwSScH"
      }
    },
    {
      "cell_type": "code",
      "source": [
        "credit.info()"
      ],
      "metadata": {
        "colab": {
          "base_uri": "https://localhost:8080/"
        },
        "id": "-RQ_FSJXAT0M",
        "outputId": "fab02b06-d74b-4fca-99a5-9d5c0031e870"
      },
      "execution_count": 26,
      "outputs": [
        {
          "output_type": "stream",
          "name": "stdout",
          "text": [
            "<class 'pandas.core.frame.DataFrame'>\n",
            "RangeIndex: 1000 entries, 0 to 999\n",
            "Data columns (total 21 columns):\n",
            " #   Column            Non-Null Count  Dtype\n",
            "---  ------            --------------  -----\n",
            " 0   creditability     1000 non-null   int64\n",
            " 1   balance           1000 non-null   int64\n",
            " 2   durcredit         1000 non-null   int64\n",
            " 3   statusprevcredit  1000 non-null   int64\n",
            " 4   purpose           1000 non-null   int64\n",
            " 5   amount            1000 non-null   int64\n",
            " 6   savings           1000 non-null   int64\n",
            " 7   lenemployment     1000 non-null   int64\n",
            " 8   instalment        1000 non-null   int64\n",
            " 9   sexmarital        1000 non-null   int64\n",
            " 10  guarantors        1000 non-null   int64\n",
            " 11  duraddress        1000 non-null   int64\n",
            " 12  mostvalasset      1000 non-null   int64\n",
            " 13  age               1000 non-null   int64\n",
            " 14  concurrent        1000 non-null   int64\n",
            " 15  apartment         1000 non-null   int64\n",
            " 16  numcreditsbank    1000 non-null   int64\n",
            " 17  occupation        1000 non-null   int64\n",
            " 18  numdependents     1000 non-null   int64\n",
            " 19  phone             1000 non-null   int64\n",
            " 20  foreignworker     1000 non-null   int64\n",
            "dtypes: int64(21)\n",
            "memory usage: 164.2 KB\n"
          ]
        }
      ]
    },
    {
      "cell_type": "markdown",
      "source": [
        "El conjunto se compone de 1000 renglones, cada uno representando a una persona que esta pidiendo un préstamo. En cada renglón tenemos 20 variables, la primera siendo la variable dependiente del proyecto: Creditability. Este es un valor binario que determina si una persona puede recibir el crédito y que probablemente lo va a liquidar.\n",
        "\n",
        "El objetivo de este proyecto es generar un modelo que tome en cuenta las variables del conjunto para clasificar a las personas en dos grupos: 1, puede recibir un crédito y 0, no puede recibir un crédito. La intención es asumir correctamente ambos grupos pues al prestar a alguien que no puede liquidar la empresa pierde dinero y también al negar un préstamo a alquien que si puede pagarlo la empresa pierde un cliente potencial.\n",
        "\n",
        "Se intentarán diferentes modelos, y se observará cuál de todos los modelos clasifica a los clientes potenciales con una mayor tasa de éxito.\n",
        "\n",
        "Los únicos pasos de procesamiento que se aplicaron sonMuchos de las variables están en una especie de código o categorización, para entender el significado de cada uno puede dirigirse a esta página: https://online.stat.psu.edu/stat508/lesson/gcd\n"
      ],
      "metadata": {
        "id": "tEkx7YTWAu3r"
      }
    },
    {
      "cell_type": "markdown",
      "source": [
        "Las variables de mayor importancia son:\n",
        "- Credit Amount\n",
        "- Account Balance\n",
        "- Age (years)\n",
        "- Duration of Credit (month)\n",
        "- Foreign Worker\n",
        "- Payment Status of Previous Credit\n",
        "- Telephone\n",
        "\n",
        "En la prueba de modelos se mostrará como se decidió que estas son las variables más importantes"
      ],
      "metadata": {
        "id": "tymwQ49hnGSH"
      }
    },
    {
      "cell_type": "code",
      "source": [
        "top_features_list = ['amount', 'balance', 'age', 'durcredit', 'foreignworker', 'statusprevcredit', 'phone']\n",
        "\n",
        "top_features = dc(credit[top_features_list])\n",
        "top_features.columns = list(map(lambda x: credit_names[x], top_features_list))\n",
        "top_features"
      ],
      "metadata": {
        "colab": {
          "base_uri": "https://localhost:8080/",
          "height": 424
        },
        "id": "7_JbaqcLndrY",
        "outputId": "5160133a-3240-4d2f-e851-9acbf9047af0"
      },
      "execution_count": 27,
      "outputs": [
        {
          "output_type": "execute_result",
          "data": {
            "text/plain": [
              "     Credit Amount  Account Balance  Age (years)  Duration of Credit (month)  \\\n",
              "0             1049                1           21                          18   \n",
              "1             2799                1           36                           9   \n",
              "2              841                2           23                          12   \n",
              "3             2122                1           39                          12   \n",
              "4             2171                1           38                          12   \n",
              "..             ...              ...          ...                         ...   \n",
              "995           1987                1           21                          24   \n",
              "996           2303                1           45                          24   \n",
              "997          12680                4           30                          21   \n",
              "998           6468                2           52                          12   \n",
              "999           6350                1           31                          30   \n",
              "\n",
              "     Foreign Worker  Payment Status of Previous Credit  Telephone  \n",
              "0                 1                                  4          0  \n",
              "1                 1                                  4          0  \n",
              "2                 1                                  2          0  \n",
              "3                 0                                  4          0  \n",
              "4                 0                                  4          0  \n",
              "..              ...                                ...        ...  \n",
              "995               1                                  2          0  \n",
              "996               1                                  2          0  \n",
              "997               1                                  4          1  \n",
              "998               1                                  2          1  \n",
              "999               1                                  2          0  \n",
              "\n",
              "[1000 rows x 7 columns]"
            ],
            "text/html": [
              "\n",
              "  <div id=\"df-a895965f-b476-4882-9d0d-0ab378781417\">\n",
              "    <div class=\"colab-df-container\">\n",
              "      <div>\n",
              "<style scoped>\n",
              "    .dataframe tbody tr th:only-of-type {\n",
              "        vertical-align: middle;\n",
              "    }\n",
              "\n",
              "    .dataframe tbody tr th {\n",
              "        vertical-align: top;\n",
              "    }\n",
              "\n",
              "    .dataframe thead th {\n",
              "        text-align: right;\n",
              "    }\n",
              "</style>\n",
              "<table border=\"1\" class=\"dataframe\">\n",
              "  <thead>\n",
              "    <tr style=\"text-align: right;\">\n",
              "      <th></th>\n",
              "      <th>Credit Amount</th>\n",
              "      <th>Account Balance</th>\n",
              "      <th>Age (years)</th>\n",
              "      <th>Duration of Credit (month)</th>\n",
              "      <th>Foreign Worker</th>\n",
              "      <th>Payment Status of Previous Credit</th>\n",
              "      <th>Telephone</th>\n",
              "    </tr>\n",
              "  </thead>\n",
              "  <tbody>\n",
              "    <tr>\n",
              "      <th>0</th>\n",
              "      <td>1049</td>\n",
              "      <td>1</td>\n",
              "      <td>21</td>\n",
              "      <td>18</td>\n",
              "      <td>1</td>\n",
              "      <td>4</td>\n",
              "      <td>0</td>\n",
              "    </tr>\n",
              "    <tr>\n",
              "      <th>1</th>\n",
              "      <td>2799</td>\n",
              "      <td>1</td>\n",
              "      <td>36</td>\n",
              "      <td>9</td>\n",
              "      <td>1</td>\n",
              "      <td>4</td>\n",
              "      <td>0</td>\n",
              "    </tr>\n",
              "    <tr>\n",
              "      <th>2</th>\n",
              "      <td>841</td>\n",
              "      <td>2</td>\n",
              "      <td>23</td>\n",
              "      <td>12</td>\n",
              "      <td>1</td>\n",
              "      <td>2</td>\n",
              "      <td>0</td>\n",
              "    </tr>\n",
              "    <tr>\n",
              "      <th>3</th>\n",
              "      <td>2122</td>\n",
              "      <td>1</td>\n",
              "      <td>39</td>\n",
              "      <td>12</td>\n",
              "      <td>0</td>\n",
              "      <td>4</td>\n",
              "      <td>0</td>\n",
              "    </tr>\n",
              "    <tr>\n",
              "      <th>4</th>\n",
              "      <td>2171</td>\n",
              "      <td>1</td>\n",
              "      <td>38</td>\n",
              "      <td>12</td>\n",
              "      <td>0</td>\n",
              "      <td>4</td>\n",
              "      <td>0</td>\n",
              "    </tr>\n",
              "    <tr>\n",
              "      <th>...</th>\n",
              "      <td>...</td>\n",
              "      <td>...</td>\n",
              "      <td>...</td>\n",
              "      <td>...</td>\n",
              "      <td>...</td>\n",
              "      <td>...</td>\n",
              "      <td>...</td>\n",
              "    </tr>\n",
              "    <tr>\n",
              "      <th>995</th>\n",
              "      <td>1987</td>\n",
              "      <td>1</td>\n",
              "      <td>21</td>\n",
              "      <td>24</td>\n",
              "      <td>1</td>\n",
              "      <td>2</td>\n",
              "      <td>0</td>\n",
              "    </tr>\n",
              "    <tr>\n",
              "      <th>996</th>\n",
              "      <td>2303</td>\n",
              "      <td>1</td>\n",
              "      <td>45</td>\n",
              "      <td>24</td>\n",
              "      <td>1</td>\n",
              "      <td>2</td>\n",
              "      <td>0</td>\n",
              "    </tr>\n",
              "    <tr>\n",
              "      <th>997</th>\n",
              "      <td>12680</td>\n",
              "      <td>4</td>\n",
              "      <td>30</td>\n",
              "      <td>21</td>\n",
              "      <td>1</td>\n",
              "      <td>4</td>\n",
              "      <td>1</td>\n",
              "    </tr>\n",
              "    <tr>\n",
              "      <th>998</th>\n",
              "      <td>6468</td>\n",
              "      <td>2</td>\n",
              "      <td>52</td>\n",
              "      <td>12</td>\n",
              "      <td>1</td>\n",
              "      <td>2</td>\n",
              "      <td>1</td>\n",
              "    </tr>\n",
              "    <tr>\n",
              "      <th>999</th>\n",
              "      <td>6350</td>\n",
              "      <td>1</td>\n",
              "      <td>31</td>\n",
              "      <td>30</td>\n",
              "      <td>1</td>\n",
              "      <td>2</td>\n",
              "      <td>0</td>\n",
              "    </tr>\n",
              "  </tbody>\n",
              "</table>\n",
              "<p>1000 rows × 7 columns</p>\n",
              "</div>\n",
              "      <button class=\"colab-df-convert\" onclick=\"convertToInteractive('df-a895965f-b476-4882-9d0d-0ab378781417')\"\n",
              "              title=\"Convert this dataframe to an interactive table.\"\n",
              "              style=\"display:none;\">\n",
              "        \n",
              "  <svg xmlns=\"http://www.w3.org/2000/svg\" height=\"24px\"viewBox=\"0 0 24 24\"\n",
              "       width=\"24px\">\n",
              "    <path d=\"M0 0h24v24H0V0z\" fill=\"none\"/>\n",
              "    <path d=\"M18.56 5.44l.94 2.06.94-2.06 2.06-.94-2.06-.94-.94-2.06-.94 2.06-2.06.94zm-11 1L8.5 8.5l.94-2.06 2.06-.94-2.06-.94L8.5 2.5l-.94 2.06-2.06.94zm10 10l.94 2.06.94-2.06 2.06-.94-2.06-.94-.94-2.06-.94 2.06-2.06.94z\"/><path d=\"M17.41 7.96l-1.37-1.37c-.4-.4-.92-.59-1.43-.59-.52 0-1.04.2-1.43.59L10.3 9.45l-7.72 7.72c-.78.78-.78 2.05 0 2.83L4 21.41c.39.39.9.59 1.41.59.51 0 1.02-.2 1.41-.59l7.78-7.78 2.81-2.81c.8-.78.8-2.07 0-2.86zM5.41 20L4 18.59l7.72-7.72 1.47 1.35L5.41 20z\"/>\n",
              "  </svg>\n",
              "      </button>\n",
              "      \n",
              "  <style>\n",
              "    .colab-df-container {\n",
              "      display:flex;\n",
              "      flex-wrap:wrap;\n",
              "      gap: 12px;\n",
              "    }\n",
              "\n",
              "    .colab-df-convert {\n",
              "      background-color: #E8F0FE;\n",
              "      border: none;\n",
              "      border-radius: 50%;\n",
              "      cursor: pointer;\n",
              "      display: none;\n",
              "      fill: #1967D2;\n",
              "      height: 32px;\n",
              "      padding: 0 0 0 0;\n",
              "      width: 32px;\n",
              "    }\n",
              "\n",
              "    .colab-df-convert:hover {\n",
              "      background-color: #E2EBFA;\n",
              "      box-shadow: 0px 1px 2px rgba(60, 64, 67, 0.3), 0px 1px 3px 1px rgba(60, 64, 67, 0.15);\n",
              "      fill: #174EA6;\n",
              "    }\n",
              "\n",
              "    [theme=dark] .colab-df-convert {\n",
              "      background-color: #3B4455;\n",
              "      fill: #D2E3FC;\n",
              "    }\n",
              "\n",
              "    [theme=dark] .colab-df-convert:hover {\n",
              "      background-color: #434B5C;\n",
              "      box-shadow: 0px 1px 3px 1px rgba(0, 0, 0, 0.15);\n",
              "      filter: drop-shadow(0px 1px 2px rgba(0, 0, 0, 0.3));\n",
              "      fill: #FFFFFF;\n",
              "    }\n",
              "  </style>\n",
              "\n",
              "      <script>\n",
              "        const buttonEl =\n",
              "          document.querySelector('#df-a895965f-b476-4882-9d0d-0ab378781417 button.colab-df-convert');\n",
              "        buttonEl.style.display =\n",
              "          google.colab.kernel.accessAllowed ? 'block' : 'none';\n",
              "\n",
              "        async function convertToInteractive(key) {\n",
              "          const element = document.querySelector('#df-a895965f-b476-4882-9d0d-0ab378781417');\n",
              "          const dataTable =\n",
              "            await google.colab.kernel.invokeFunction('convertToInteractive',\n",
              "                                                     [key], {});\n",
              "          if (!dataTable) return;\n",
              "\n",
              "          const docLinkHtml = 'Like what you see? Visit the ' +\n",
              "            '<a target=\"_blank\" href=https://colab.research.google.com/notebooks/data_table.ipynb>data table notebook</a>'\n",
              "            + ' to learn more about interactive tables.';\n",
              "          element.innerHTML = '';\n",
              "          dataTable['output_type'] = 'display_data';\n",
              "          await google.colab.output.renderOutput(dataTable, element);\n",
              "          const docLink = document.createElement('div');\n",
              "          docLink.innerHTML = docLinkHtml;\n",
              "          element.appendChild(docLink);\n",
              "        }\n",
              "      </script>\n",
              "    </div>\n",
              "  </div>\n",
              "  "
            ]
          },
          "metadata": {},
          "execution_count": 27
        }
      ]
    },
    {
      "cell_type": "code",
      "source": [
        "sns.set(rc={'figure.figsize' : (12, 8)})"
      ],
      "metadata": {
        "id": "CVERU65onEZY"
      },
      "execution_count": 28,
      "outputs": []
    },
    {
      "cell_type": "code",
      "source": [
        "# Credit Amount\n",
        "sns.histplot(data = top_features, x = \"Credit Amount\", stat = \"percent\")"
      ],
      "metadata": {
        "colab": {
          "base_uri": "https://localhost:8080/",
          "height": 519
        },
        "id": "jXgJ8S9dnPHz",
        "outputId": "7cdeda9d-ea75-487d-901c-a1b284bbcf92"
      },
      "execution_count": 29,
      "outputs": [
        {
          "output_type": "execute_result",
          "data": {
            "text/plain": [
              "<matplotlib.axes._subplots.AxesSubplot at 0x7f6f398c95e0>"
            ]
          },
          "metadata": {},
          "execution_count": 29
        },
        {
          "output_type": "display_data",
          "data": {
            "text/plain": [
              "<Figure size 864x576 with 1 Axes>"
            ],
            "image/png": "[encoded data removed]"
          },
          "metadata": {}
        }
      ]
    },
    {
      "cell_type": "code",
      "source": [
        "# Account Balance\n",
        "balance_dict = {1 : \"No account\", 2 : \"No balance\", 3 : \"0 - 200 DM\", 4 : \"200+ DM or account 1+ year old\"}\n",
        "\n",
        "balance_counts = pd.DataFrame()\n",
        "balance_counts[\"Percent\"] = list(map(lambda x: x / len(credit), credit[\"balance\"].value_counts().values))\n",
        "balance_counts[\"Account Balance\"] = list(map(lambda x: balance_dict[x], credit[\"balance\"].value_counts().index))\n",
        "balance_counts = balance_counts.sort_values(\"Account Balance\")\n",
        "\n",
        "sns.barplot(data = balance_counts, x = \"Account Balance\", y = \"Percent\")"
      ],
      "metadata": {
        "colab": {
          "base_uri": "https://localhost:8080/",
          "height": 519
        },
        "id": "QIYq_DZBnQEb",
        "outputId": "bf369bae-a21a-4b82-e6ae-66448f06df0d"
      },
      "execution_count": 30,
      "outputs": [
        {
          "output_type": "execute_result",
          "data": {
            "text/plain": [
              "<matplotlib.axes._subplots.AxesSubplot at 0x7f6f391d0e50>"
            ]
          },
          "metadata": {},
          "execution_count": 30
        },
        {
          "output_type": "display_data",
          "data": {
            "text/plain": [
              "<Figure size 864x576 with 1 Axes>"
            ],
            "image/png": "[encoded data removed]"
          },
          "metadata": {}
        }
      ]
    },
    {
      "cell_type": "code",
      "source": [
        "# Age (years)\n",
        "sns.histplot(data = top_features, x = \"Age (years)\", stat = \"percent\")"
      ],
      "metadata": {
        "colab": {
          "base_uri": "https://localhost:8080/",
          "height": 519
        },
        "id": "YSg3qG2NnRNY",
        "outputId": "ac5eadd9-161b-46a9-ab13-b0bddca4e13f"
      },
      "execution_count": 31,
      "outputs": [
        {
          "output_type": "execute_result",
          "data": {
            "text/plain": [
              "<matplotlib.axes._subplots.AxesSubplot at 0x7f6f3842d8b0>"
            ]
          },
          "metadata": {},
          "execution_count": 31
        },
        {
          "output_type": "display_data",
          "data": {
            "text/plain": [
              "<Figure size 864x576 with 1 Axes>"
            ],
            "image/png": "[encoded data removed]"
          },
          "metadata": {}
        }
      ]
    },
    {
      "cell_type": "code",
      "source": [
        "# Duration of Credit (month)\n",
        "sns.histplot(data = top_features, x = \"Duration of Credit (month)\", stat = \"percent\")"
      ],
      "metadata": {
        "colab": {
          "base_uri": "https://localhost:8080/",
          "height": 519
        },
        "id": "lbwSG-xFnSZV",
        "outputId": "defe2f50-3aa2-4351-b341-bf38f025aacb"
      },
      "execution_count": 32,
      "outputs": [
        {
          "output_type": "execute_result",
          "data": {
            "text/plain": [
              "<matplotlib.axes._subplots.AxesSubplot at 0x7f6f3842dfd0>"
            ]
          },
          "metadata": {},
          "execution_count": 32
        },
        {
          "output_type": "display_data",
          "data": {
            "text/plain": [
              "<Figure size 864x576 with 1 Axes>"
            ],
            "image/png": "[encoded data removed]"
          },
          "metadata": {}
        }
      ]
    },
    {
      "cell_type": "code",
      "source": [
        "# Foreign Worker\n",
        "foreign_dict = {1 : \"Yes\", 0 : \"No\"}\n",
        "\n",
        "foreign_counts = pd.DataFrame()\n",
        "foreign_counts[\"Percent\"] = list(map(lambda x: x / len(credit), credit[\"foreignworker\"].value_counts().values))\n",
        "foreign_counts[\"Foreign Worker\"] = list(map(lambda x: foreign_dict[x], credit[\"foreignworker\"].value_counts().index))\n",
        "foreign_counts = foreign_counts.sort_values(\"Foreign Worker\")\n",
        "\n",
        "sns.barplot(data = foreign_counts, x = \"Foreign Worker\", y = \"Percent\")"
      ],
      "metadata": {
        "colab": {
          "base_uri": "https://localhost:8080/",
          "height": 519
        },
        "id": "QcGqq6l5AUaN",
        "outputId": "1d4c4f82-639f-41db-e2bb-a51954ea126f"
      },
      "execution_count": 33,
      "outputs": [
        {
          "output_type": "execute_result",
          "data": {
            "text/plain": [
              "<matplotlib.axes._subplots.AxesSubplot at 0x7f6f382e7d00>"
            ]
          },
          "metadata": {},
          "execution_count": 33
        },
        {
          "output_type": "display_data",
          "data": {
            "text/plain": [
              "<Figure size 864x576 with 1 Axes>"
            ],
            "image/png": "[encoded data removed]"
          },
          "metadata": {}
        }
      ]
    },
    {
      "cell_type": "code",
      "source": [
        "# Payment Status of Previous Credit\n",
        "payment_dict = {0 : \"Hesitant Pmt\", 1 : \"Problematic Acc.\", 2 : \"Paid Cr. / Has None\", 3 : \"No Problems W/ Current Cr.\", 4 : \"Paid Back Prev. Cr.\"}\n",
        "\n",
        "payment_counts = pd.DataFrame()\n",
        "payment_counts[\"Percent\"] = list(map(lambda x: x / len(credit), credit[\"statusprevcredit\"].value_counts().values))\n",
        "payment_counts[\"Payment Status of Previous Credit\"] = list(map(lambda x: payment_dict[x], credit[\"statusprevcredit\"].value_counts().index))\n",
        "payment_counts = payment_counts.sort_values(\"Payment Status of Previous Credit\")\n",
        "\n",
        "sns.barplot(data = payment_counts, x = \"Payment Status of Previous Credit\", y = \"Percent\")"
      ],
      "metadata": {
        "colab": {
          "base_uri": "https://localhost:8080/",
          "height": 519
        },
        "id": "piVJcIOiAVI1",
        "outputId": "f6f428e8-c151-464b-c2b9-04a2d0cf2166"
      },
      "execution_count": 34,
      "outputs": [
        {
          "output_type": "execute_result",
          "data": {
            "text/plain": [
              "<matplotlib.axes._subplots.AxesSubplot at 0x7f6f382b4310>"
            ]
          },
          "metadata": {},
          "execution_count": 34
        },
        {
          "output_type": "display_data",
          "data": {
            "text/plain": [
              "<Figure size 864x576 with 1 Axes>"
            ],
            "image/png": "[encoded data removed]"
          },
          "metadata": {}
        }
      ]
    },
    {
      "cell_type": "code",
      "source": [
        "# Telephone\n",
        "phone_dict = {0 : \"No\", 1 : \"Yes\"}\n",
        "\n",
        "phone_counts = pd.DataFrame()\n",
        "phone_counts[\"Percent\"] = list(map(lambda x: x / len(credit), credit[\"phone\"].value_counts().values))\n",
        "phone_counts[\"Telephone\"] = list(map(lambda x: phone_dict[x], credit[\"phone\"].value_counts().index))\n",
        "phone_counts = phone_counts.sort_values(\"Telephone\")\n",
        "\n",
        "sns.barplot(data = phone_counts, x = \"Telephone\", y = \"Percent\")"
      ],
      "metadata": {
        "colab": {
          "base_uri": "https://localhost:8080/",
          "height": 519
        },
        "id": "M_MWZ-nVAVK7",
        "outputId": "244004e7-28c2-4f10-b163-619183ec592c"
      },
      "execution_count": 35,
      "outputs": [
        {
          "output_type": "execute_result",
          "data": {
            "text/plain": [
              "<matplotlib.axes._subplots.AxesSubplot at 0x7f6f38213c10>"
            ]
          },
          "metadata": {},
          "execution_count": 35
        },
        {
          "output_type": "display_data",
          "data": {
            "text/plain": [
              "<Figure size 864x576 with 1 Axes>"
            ],
            "image/png": "[encoded data removed]"
          },
          "metadata": {}
        }
      ]
    },
    {
      "cell_type": "code",
      "source": [
        "top_features[[\"Duration of Credit (month)\", \"Credit Amount\", \"Age (years)\"]].corr() # Estas son las únicas variables del conjunto que no son categóricas"
      ],
      "metadata": {
        "colab": {
          "base_uri": "https://localhost:8080/",
          "height": 143
        },
        "id": "XjWx2fAInVnP",
        "outputId": "951c2955-93aa-4f73-8536-19c64c138c31"
      },
      "execution_count": 36,
      "outputs": [
        {
          "output_type": "execute_result",
          "data": {
            "text/plain": [
              "                            Duration of Credit (month)  Credit Amount  \\\n",
              "Duration of Credit (month)                    1.000000       0.624988   \n",
              "Credit Amount                                 0.624988       1.000000   \n",
              "Age (years)                                  -0.037550       0.032273   \n",
              "\n",
              "                            Age (years)  \n",
              "Duration of Credit (month)    -0.037550  \n",
              "Credit Amount                  0.032273  \n",
              "Age (years)                    1.000000  "
            ],
            "text/html": [
              "\n",
              "  <div id=\"df-1088e839-cba2-4909-8e8d-75ee893ee375\">\n",
              "    <div class=\"colab-df-container\">\n",
              "      <div>\n",
              "<style scoped>\n",
              "    .dataframe tbody tr th:only-of-type {\n",
              "        vertical-align: middle;\n",
              "    }\n",
              "\n",
              "    .dataframe tbody tr th {\n",
              "        vertical-align: top;\n",
              "    }\n",
              "\n",
              "    .dataframe thead th {\n",
              "        text-align: right;\n",
              "    }\n",
              "</style>\n",
              "<table border=\"1\" class=\"dataframe\">\n",
              "  <thead>\n",
              "    <tr style=\"text-align: right;\">\n",
              "      <th></th>\n",
              "      <th>Duration of Credit (month)</th>\n",
              "      <th>Credit Amount</th>\n",
              "      <th>Age (years)</th>\n",
              "    </tr>\n",
              "  </thead>\n",
              "  <tbody>\n",
              "    <tr>\n",
              "      <th>Duration of Credit (month)</th>\n",
              "      <td>1.000000</td>\n",
              "      <td>0.624988</td>\n",
              "      <td>-0.037550</td>\n",
              "    </tr>\n",
              "    <tr>\n",
              "      <th>Credit Amount</th>\n",
              "      <td>0.624988</td>\n",
              "      <td>1.000000</td>\n",
              "      <td>0.032273</td>\n",
              "    </tr>\n",
              "    <tr>\n",
              "      <th>Age (years)</th>\n",
              "      <td>-0.037550</td>\n",
              "      <td>0.032273</td>\n",
              "      <td>1.000000</td>\n",
              "    </tr>\n",
              "  </tbody>\n",
              "</table>\n",
              "</div>\n",
              "      <button class=\"colab-df-convert\" onclick=\"convertToInteractive('df-1088e839-cba2-4909-8e8d-75ee893ee375')\"\n",
              "              title=\"Convert this dataframe to an interactive table.\"\n",
              "              style=\"display:none;\">\n",
              "        \n",
              "  <svg xmlns=\"http://www.w3.org/2000/svg\" height=\"24px\"viewBox=\"0 0 24 24\"\n",
              "       width=\"24px\">\n",
              "    <path d=\"M0 0h24v24H0V0z\" fill=\"none\"/>\n",
              "    <path d=\"M18.56 5.44l.94 2.06.94-2.06 2.06-.94-2.06-.94-.94-2.06-.94 2.06-2.06.94zm-11 1L8.5 8.5l.94-2.06 2.06-.94-2.06-.94L8.5 2.5l-.94 2.06-2.06.94zm10 10l.94 2.06.94-2.06 2.06-.94-2.06-.94-.94-2.06-.94 2.06-2.06.94z\"/><path d=\"M17.41 7.96l-1.37-1.37c-.4-.4-.92-.59-1.43-.59-.52 0-1.04.2-1.43.59L10.3 9.45l-7.72 7.72c-.78.78-.78 2.05 0 2.83L4 21.41c.39.39.9.59 1.41.59.51 0 1.02-.2 1.41-.59l7.78-7.78 2.81-2.81c.8-.78.8-2.07 0-2.86zM5.41 20L4 18.59l7.72-7.72 1.47 1.35L5.41 20z\"/>\n",
              "  </svg>\n",
              "      </button>\n",
              "      \n",
              "  <style>\n",
              "    .colab-df-container {\n",
              "      display:flex;\n",
              "      flex-wrap:wrap;\n",
              "      gap: 12px;\n",
              "    }\n",
              "\n",
              "    .colab-df-convert {\n",
              "      background-color: #E8F0FE;\n",
              "      border: none;\n",
              "      border-radius: 50%;\n",
              "      cursor: pointer;\n",
              "      display: none;\n",
              "      fill: #1967D2;\n",
              "      height: 32px;\n",
              "      padding: 0 0 0 0;\n",
              "      width: 32px;\n",
              "    }\n",
              "\n",
              "    .colab-df-convert:hover {\n",
              "      background-color: #E2EBFA;\n",
              "      box-shadow: 0px 1px 2px rgba(60, 64, 67, 0.3), 0px 1px 3px 1px rgba(60, 64, 67, 0.15);\n",
              "      fill: #174EA6;\n",
              "    }\n",
              "\n",
              "    [theme=dark] .colab-df-convert {\n",
              "      background-color: #3B4455;\n",
              "      fill: #D2E3FC;\n",
              "    }\n",
              "\n",
              "    [theme=dark] .colab-df-convert:hover {\n",
              "      background-color: #434B5C;\n",
              "      box-shadow: 0px 1px 3px 1px rgba(0, 0, 0, 0.15);\n",
              "      filter: drop-shadow(0px 1px 2px rgba(0, 0, 0, 0.3));\n",
              "      fill: #FFFFFF;\n",
              "    }\n",
              "  </style>\n",
              "\n",
              "      <script>\n",
              "        const buttonEl =\n",
              "          document.querySelector('#df-1088e839-cba2-4909-8e8d-75ee893ee375 button.colab-df-convert');\n",
              "        buttonEl.style.display =\n",
              "          google.colab.kernel.accessAllowed ? 'block' : 'none';\n",
              "\n",
              "        async function convertToInteractive(key) {\n",
              "          const element = document.querySelector('#df-1088e839-cba2-4909-8e8d-75ee893ee375');\n",
              "          const dataTable =\n",
              "            await google.colab.kernel.invokeFunction('convertToInteractive',\n",
              "                                                     [key], {});\n",
              "          if (!dataTable) return;\n",
              "\n",
              "          const docLinkHtml = 'Like what you see? Visit the ' +\n",
              "            '<a target=\"_blank\" href=https://colab.research.google.com/notebooks/data_table.ipynb>data table notebook</a>'\n",
              "            + ' to learn more about interactive tables.';\n",
              "          element.innerHTML = '';\n",
              "          dataTable['output_type'] = 'display_data';\n",
              "          await google.colab.output.renderOutput(dataTable, element);\n",
              "          const docLink = document.createElement('div');\n",
              "          docLink.innerHTML = docLinkHtml;\n",
              "          element.appendChild(docLink);\n",
              "        }\n",
              "      </script>\n",
              "    </div>\n",
              "  </div>\n",
              "  "
            ]
          },
          "metadata": {},
          "execution_count": 36
        }
      ]
    },
    {
      "cell_type": "code",
      "source": [
        "sns.pairplot(top_features[[\"Duration of Credit (month)\", \"Credit Amount\", \"Age (years)\"]]) # Parece haber una correlación no muy duerte de la cantidad del crédito y la duración"
      ],
      "metadata": {
        "colab": {
          "base_uri": "https://localhost:8080/",
          "height": 560
        },
        "id": "zgQJIEfanWVI",
        "outputId": "fc98709a-c0fc-4b87-f884-28abcffb03e4"
      },
      "execution_count": 37,
      "outputs": [
        {
          "output_type": "execute_result",
          "data": {
            "text/plain": [
              "<seaborn.axisgrid.PairGrid at 0x7f6f381e5b80>"
            ]
          },
          "metadata": {},
          "execution_count": 37
        },
        {
          "output_type": "display_data",
          "data": {
            "text/plain": [
              "<Figure size 540x540 with 12 Axes>"
            ],
            "image/png": "[encoded data removed]"
          },
          "metadata": {}
        }
      ]
    },
    {
      "cell_type": "markdown",
      "source": [
        "## Prueba de modelos"
      ],
      "metadata": {
        "id": "x14qhXFWt3yC"
      }
    },
    {
      "cell_type": "markdown",
      "source": [
        "### Creación de conjuntos de entrenamiento y prueba"
      ],
      "metadata": {
        "id": "X40iBSO8uqee"
      }
    },
    {
      "cell_type": "code",
      "source": [
        "X = credit[credit_names_short[1:]] # Se escogen todas las variables menos la primera, creditability\n",
        "y = credit[\"creditability\"] # Se escoge la variable dependiente\n",
        "\n",
        "X_train, X_test, y_train, y_test = train_test_split(X, y, test_size = 0.3, random_state = 42)\n",
        "# El tamaño del conjunto de prueba será del 30%, el random_state 42 se usará para todo lo que lo use"
      ],
      "metadata": {
        "id": "f4Mj2ixku6yz"
      },
      "execution_count": 5,
      "outputs": []
    },
    {
      "cell_type": "code",
      "source": [
        "selected_rf = ['balance', 'durcredit', 'statusprevcredit', 'purpose', 'amount',\n",
        "       'savings', 'lenemployment', 'instalment', 'sexmarital', 'duraddress',\n",
        "       'mostvalasset', 'age', 'apartment', 'numcreditsbank', 'occupation',\n",
        "       'phone']\n",
        "selected_svc = ['balance', 'durcredit', 'statusprevcredit', 'savings', 'lenemployment',\n",
        "       'instalment', 'sexmarital', 'guarantors', 'duraddress', 'mostvalasset',\n",
        "       'concurrent', 'apartment', 'numcreditsbank', 'occupation',\n",
        "       'numdependents', 'phone', 'foreignworker']\n",
        "# Conjuntos de variables seleccionados por RFECV y los modelos"
      ],
      "metadata": {
        "id": "PHQ5ZDgQo5yi"
      },
      "execution_count": 6,
      "outputs": []
    },
    {
      "cell_type": "markdown",
      "source": [
        "### Random Forest"
      ],
      "metadata": {
        "id": "17PYTjPCt9vv"
      }
    },
    {
      "cell_type": "code",
      "source": [
        "forest = RandomForestClassifier(random_state = 42)\n",
        "forest.fit(X_train, y_train)\n",
        "y_pred = forest.predict(X_test)\n",
        "accuracy_score(y_test, y_pred) # El accuracy score que nos da usando todas las variables y los parámetros default es de 77%"
      ],
      "metadata": {
        "colab": {
          "base_uri": "https://localhost:8080/"
        },
        "id": "Zu-qYF0Oay6W",
        "outputId": "33f25bca-0439-40d6-9173-63c59e67b97c"
      },
      "execution_count": 40,
      "outputs": [
        {
          "output_type": "execute_result",
          "data": {
            "text/plain": [
              "0.77"
            ]
          },
          "metadata": {},
          "execution_count": 40
        }
      ]
    },
    {
      "cell_type": "code",
      "source": [
        "forest = RandomForestClassifier(random_state = 42)\n",
        "\n",
        "selector_rf = RFECV(forest) # Usamos un seleccionador de variables con cross-validation\n",
        "selector_rf.fit(X_train, y_train)\n",
        "selected_rf = X.columns[selector_rf.support_] # El seleccionador nos regresa el conjunto de variables que nos dará el mejor resultado\n",
        "print(selected_rf)\n",
        "\n",
        "forest.fit(X_train[selected_rf], y_train)\n",
        "y_pred = forest.predict(X_test[selected_rf])\n",
        "accuracy_score(y_test, y_pred) # Al usar las variables seleccionadas, nuestro accuracy score baja, pero este valor es más confiable puesto a que fue por un cross-validation de 5 folds"
      ],
      "metadata": {
        "colab": {
          "base_uri": "https://localhost:8080/"
        },
        "id": "oVwi6G_yS9Cj",
        "outputId": "0c641252-57e7-4418-bd5c-c7884c4d290a"
      },
      "execution_count": 41,
      "outputs": [
        {
          "output_type": "stream",
          "name": "stdout",
          "text": [
            "Index(['balance', 'durcredit', 'statusprevcredit', 'purpose', 'amount',\n",
            "       'savings', 'lenemployment', 'instalment', 'sexmarital', 'duraddress',\n",
            "       'mostvalasset', 'age', 'apartment', 'numcreditsbank', 'occupation',\n",
            "       'phone'],\n",
            "      dtype='object')\n"
          ]
        },
        {
          "output_type": "execute_result",
          "data": {
            "text/plain": [
              "0.7333333333333333"
            ]
          },
          "metadata": {},
          "execution_count": 41
        }
      ]
    },
    {
      "cell_type": "code",
      "source": [
        "forest = RandomForestClassifier(random_state = 42)\n",
        "\n",
        "# Optimización de parámetros, usando las variables seleccionadas\n",
        "search = GridSearchCV(forest, {'n_estimators' : [100, 500, 1000], 'criterion' : ['gini', 'entropy'], 'max_depth' : [6, 8, 10]})\n",
        "search.fit(X_train[selected_rf], y_train)\n",
        "\n",
        "print(search.best_params_)"
      ],
      "metadata": {
        "id": "cFUDs3bXEuAT",
        "colab": {
          "base_uri": "https://localhost:8080/"
        },
        "outputId": "74cb207d-c7ea-44ea-9daa-8bca063c3716"
      },
      "execution_count": 42,
      "outputs": [
        {
          "output_type": "stream",
          "name": "stdout",
          "text": [
            "{'criterion': 'entropy', 'max_depth': 8, 'n_estimators': 500}\n"
          ]
        }
      ]
    },
    {
      "cell_type": "code",
      "source": [
        "forest = RandomForestClassifier(random_state = 42, criterion = \"entropy\", max_depth = 8, n_estimators = 500)\n",
        "forest.fit(X_train[selected_rf], y_train)\n",
        "\n",
        "y_pred = forest.predict(X_test[selected_rf])\n",
        "\n",
        "accuracy_score(y_test, y_pred) # Después de usar los mejores parámetros y las variables ideales, nuestro accuracy score solo baja un 3.33% a comparación de la configuración default\n",
        "# Sin embargo, este modelo es más fiable puesto a que fué por el proceso de cross validation tanto en su selección de variables como su optimización de parámetros"
      ],
      "metadata": {
        "colab": {
          "base_uri": "https://localhost:8080/"
        },
        "id": "cn9nmgLnou5c",
        "outputId": "ed95b84a-2bb4-4246-d1e7-aee9f763892b"
      },
      "execution_count": 43,
      "outputs": [
        {
          "output_type": "execute_result",
          "data": {
            "text/plain": [
              "0.7666666666666667"
            ]
          },
          "metadata": {},
          "execution_count": 43
        }
      ]
    },
    {
      "cell_type": "code",
      "source": [
        "importances = pd.DataFrame()\n",
        "importances[\"Feature\"] = selected_rf\n",
        "importances[\"Importance\"] = forest.feature_importances_\n",
        "importances = importances.sort_values(\"Importance\", ascending = False).reset_index(drop = True)\n",
        "importances # Aquí las más importantes son amount, balance, durcredit y age"
      ],
      "metadata": {
        "colab": {
          "base_uri": "https://localhost:8080/",
          "height": 551
        },
        "id": "MGHbStOKRkCm",
        "outputId": "f915da88-eda6-4190-aed6-e788ecc9e08c"
      },
      "execution_count": 44,
      "outputs": [
        {
          "output_type": "execute_result",
          "data": {
            "text/plain": [
              "             Feature  Importance\n",
              "0             amount    0.142350\n",
              "1            balance    0.141900\n",
              "2          durcredit    0.119063\n",
              "3                age    0.107791\n",
              "4   statusprevcredit    0.074823\n",
              "5            purpose    0.064395\n",
              "6            savings    0.058386\n",
              "7      lenemployment    0.049452\n",
              "8         instalment    0.043945\n",
              "9       mostvalasset    0.038939\n",
              "10        sexmarital    0.032670\n",
              "11        duraddress    0.030846\n",
              "12        occupation    0.029542\n",
              "13         apartment    0.023713\n",
              "14    numcreditsbank    0.022648\n",
              "15             phone    0.019538"
            ],
            "text/html": [
              "\n",
              "  <div id=\"df-b615db5b-92ed-4d46-b7cc-dd35fdd368a7\">\n",
              "    <div class=\"colab-df-container\">\n",
              "      <div>\n",
              "<style scoped>\n",
              "    .dataframe tbody tr th:only-of-type {\n",
              "        vertical-align: middle;\n",
              "    }\n",
              "\n",
              "    .dataframe tbody tr th {\n",
              "        vertical-align: top;\n",
              "    }\n",
              "\n",
              "    .dataframe thead th {\n",
              "        text-align: right;\n",
              "    }\n",
              "</style>\n",
              "<table border=\"1\" class=\"dataframe\">\n",
              "  <thead>\n",
              "    <tr style=\"text-align: right;\">\n",
              "      <th></th>\n",
              "      <th>Feature</th>\n",
              "      <th>Importance</th>\n",
              "    </tr>\n",
              "  </thead>\n",
              "  <tbody>\n",
              "    <tr>\n",
              "      <th>0</th>\n",
              "      <td>amount</td>\n",
              "      <td>0.142350</td>\n",
              "    </tr>\n",
              "    <tr>\n",
              "      <th>1</th>\n",
              "      <td>balance</td>\n",
              "      <td>0.141900</td>\n",
              "    </tr>\n",
              "    <tr>\n",
              "      <th>2</th>\n",
              "      <td>durcredit</td>\n",
              "      <td>0.119063</td>\n",
              "    </tr>\n",
              "    <tr>\n",
              "      <th>3</th>\n",
              "      <td>age</td>\n",
              "      <td>0.107791</td>\n",
              "    </tr>\n",
              "    <tr>\n",
              "      <th>4</th>\n",
              "      <td>statusprevcredit</td>\n",
              "      <td>0.074823</td>\n",
              "    </tr>\n",
              "    <tr>\n",
              "      <th>5</th>\n",
              "      <td>purpose</td>\n",
              "      <td>0.064395</td>\n",
              "    </tr>\n",
              "    <tr>\n",
              "      <th>6</th>\n",
              "      <td>savings</td>\n",
              "      <td>0.058386</td>\n",
              "    </tr>\n",
              "    <tr>\n",
              "      <th>7</th>\n",
              "      <td>lenemployment</td>\n",
              "      <td>0.049452</td>\n",
              "    </tr>\n",
              "    <tr>\n",
              "      <th>8</th>\n",
              "      <td>instalment</td>\n",
              "      <td>0.043945</td>\n",
              "    </tr>\n",
              "    <tr>\n",
              "      <th>9</th>\n",
              "      <td>mostvalasset</td>\n",
              "      <td>0.038939</td>\n",
              "    </tr>\n",
              "    <tr>\n",
              "      <th>10</th>\n",
              "      <td>sexmarital</td>\n",
              "      <td>0.032670</td>\n",
              "    </tr>\n",
              "    <tr>\n",
              "      <th>11</th>\n",
              "      <td>duraddress</td>\n",
              "      <td>0.030846</td>\n",
              "    </tr>\n",
              "    <tr>\n",
              "      <th>12</th>\n",
              "      <td>occupation</td>\n",
              "      <td>0.029542</td>\n",
              "    </tr>\n",
              "    <tr>\n",
              "      <th>13</th>\n",
              "      <td>apartment</td>\n",
              "      <td>0.023713</td>\n",
              "    </tr>\n",
              "    <tr>\n",
              "      <th>14</th>\n",
              "      <td>numcreditsbank</td>\n",
              "      <td>0.022648</td>\n",
              "    </tr>\n",
              "    <tr>\n",
              "      <th>15</th>\n",
              "      <td>phone</td>\n",
              "      <td>0.019538</td>\n",
              "    </tr>\n",
              "  </tbody>\n",
              "</table>\n",
              "</div>\n",
              "      <button class=\"colab-df-convert\" onclick=\"convertToInteractive('df-b615db5b-92ed-4d46-b7cc-dd35fdd368a7')\"\n",
              "              title=\"Convert this dataframe to an interactive table.\"\n",
              "              style=\"display:none;\">\n",
              "        \n",
              "  <svg xmlns=\"http://www.w3.org/2000/svg\" height=\"24px\"viewBox=\"0 0 24 24\"\n",
              "       width=\"24px\">\n",
              "    <path d=\"M0 0h24v24H0V0z\" fill=\"none\"/>\n",
              "    <path d=\"M18.56 5.44l.94 2.06.94-2.06 2.06-.94-2.06-.94-.94-2.06-.94 2.06-2.06.94zm-11 1L8.5 8.5l.94-2.06 2.06-.94-2.06-.94L8.5 2.5l-.94 2.06-2.06.94zm10 10l.94 2.06.94-2.06 2.06-.94-2.06-.94-.94-2.06-.94 2.06-2.06.94z\"/><path d=\"M17.41 7.96l-1.37-1.37c-.4-.4-.92-.59-1.43-.59-.52 0-1.04.2-1.43.59L10.3 9.45l-7.72 7.72c-.78.78-.78 2.05 0 2.83L4 21.41c.39.39.9.59 1.41.59.51 0 1.02-.2 1.41-.59l7.78-7.78 2.81-2.81c.8-.78.8-2.07 0-2.86zM5.41 20L4 18.59l7.72-7.72 1.47 1.35L5.41 20z\"/>\n",
              "  </svg>\n",
              "      </button>\n",
              "      \n",
              "  <style>\n",
              "    .colab-df-container {\n",
              "      display:flex;\n",
              "      flex-wrap:wrap;\n",
              "      gap: 12px;\n",
              "    }\n",
              "\n",
              "    .colab-df-convert {\n",
              "      background-color: #E8F0FE;\n",
              "      border: none;\n",
              "      border-radius: 50%;\n",
              "      cursor: pointer;\n",
              "      display: none;\n",
              "      fill: #1967D2;\n",
              "      height: 32px;\n",
              "      padding: 0 0 0 0;\n",
              "      width: 32px;\n",
              "    }\n",
              "\n",
              "    .colab-df-convert:hover {\n",
              "      background-color: #E2EBFA;\n",
              "      box-shadow: 0px 1px 2px rgba(60, 64, 67, 0.3), 0px 1px 3px 1px rgba(60, 64, 67, 0.15);\n",
              "      fill: #174EA6;\n",
              "    }\n",
              "\n",
              "    [theme=dark] .colab-df-convert {\n",
              "      background-color: #3B4455;\n",
              "      fill: #D2E3FC;\n",
              "    }\n",
              "\n",
              "    [theme=dark] .colab-df-convert:hover {\n",
              "      background-color: #434B5C;\n",
              "      box-shadow: 0px 1px 3px 1px rgba(0, 0, 0, 0.15);\n",
              "      filter: drop-shadow(0px 1px 2px rgba(0, 0, 0, 0.3));\n",
              "      fill: #FFFFFF;\n",
              "    }\n",
              "  </style>\n",
              "\n",
              "      <script>\n",
              "        const buttonEl =\n",
              "          document.querySelector('#df-b615db5b-92ed-4d46-b7cc-dd35fdd368a7 button.colab-df-convert');\n",
              "        buttonEl.style.display =\n",
              "          google.colab.kernel.accessAllowed ? 'block' : 'none';\n",
              "\n",
              "        async function convertToInteractive(key) {\n",
              "          const element = document.querySelector('#df-b615db5b-92ed-4d46-b7cc-dd35fdd368a7');\n",
              "          const dataTable =\n",
              "            await google.colab.kernel.invokeFunction('convertToInteractive',\n",
              "                                                     [key], {});\n",
              "          if (!dataTable) return;\n",
              "\n",
              "          const docLinkHtml = 'Like what you see? Visit the ' +\n",
              "            '<a target=\"_blank\" href=https://colab.research.google.com/notebooks/data_table.ipynb>data table notebook</a>'\n",
              "            + ' to learn more about interactive tables.';\n",
              "          element.innerHTML = '';\n",
              "          dataTable['output_type'] = 'display_data';\n",
              "          await google.colab.output.renderOutput(dataTable, element);\n",
              "          const docLink = document.createElement('div');\n",
              "          docLink.innerHTML = docLinkHtml;\n",
              "          element.appendChild(docLink);\n",
              "        }\n",
              "      </script>\n",
              "    </div>\n",
              "  </div>\n",
              "  "
            ]
          },
          "metadata": {},
          "execution_count": 44
        }
      ]
    },
    {
      "cell_type": "markdown",
      "source": [
        "### Support Vector Machine"
      ],
      "metadata": {
        "id": "zWEcQmRut7cl"
      }
    },
    {
      "cell_type": "code",
      "source": [
        "svc = SVC(random_state = 42)\n",
        "svc.fit(X_train, y_train)\n",
        "y_pred = svc.predict(X_test)\n",
        "accuracy_score(y_test, y_pred)"
      ],
      "metadata": {
        "colab": {
          "base_uri": "https://localhost:8080/"
        },
        "id": "yTsSZSgvQP4u",
        "outputId": "51a892c0-f350-4d5e-aa1a-f005e5e57540"
      },
      "execution_count": 46,
      "outputs": [
        {
          "output_type": "execute_result",
          "data": {
            "text/plain": [
              "0.7"
            ]
          },
          "metadata": {},
          "execution_count": 46
        }
      ]
    },
    {
      "cell_type": "code",
      "source": [
        "svc = SVC(random_state = 42, kernel = 'linear') # Se usó el modelo lineal dado que provee un mayor nivel de precisión y se puede usar fácilmente con RFECV\n",
        "selector_svc = RFECV(svc) \n",
        "selector_svc.fit(X_train, y_train)\n",
        "selected_svc = X.columns[selector_svc.support_]\n",
        "print(selected_svc)"
      ],
      "metadata": {
        "id": "_Dt_G8GBvczA",
        "colab": {
          "base_uri": "https://localhost:8080/"
        },
        "outputId": "b2980172-21ab-4443-df9c-4407252b2442"
      },
      "execution_count": 47,
      "outputs": [
        {
          "output_type": "stream",
          "name": "stdout",
          "text": [
            "Index(['balance', 'durcredit', 'statusprevcredit', 'savings', 'lenemployment',\n",
            "       'instalment', 'sexmarital', 'guarantors', 'duraddress', 'mostvalasset',\n",
            "       'concurrent', 'apartment', 'numcreditsbank', 'occupation',\n",
            "       'numdependents', 'phone', 'foreignworker'],\n",
            "      dtype='object')\n"
          ]
        }
      ]
    },
    {
      "cell_type": "code",
      "source": [
        "svc.fit(X_train[selected_svc], y_train)\n",
        "y_pred = svc.predict(X_test[selected_svc])\n",
        "accuracy_score(y_test, y_pred)"
      ],
      "metadata": {
        "colab": {
          "base_uri": "https://localhost:8080/"
        },
        "id": "NmpNSVyMv0J1",
        "outputId": "153bd89d-717d-40f1-e8d7-19ba46dc35b0"
      },
      "execution_count": 48,
      "outputs": [
        {
          "output_type": "execute_result",
          "data": {
            "text/plain": [
              "0.7433333333333333"
            ]
          },
          "metadata": {},
          "execution_count": 48
        }
      ]
    },
    {
      "cell_type": "code",
      "source": [
        "svc = SVC(random_state = 42, kernel = 'linear')\n",
        "\n",
        "search = GridSearchCV(svc, {'C' : [0.1, 1, 10, 100]})\n",
        "search.fit(X_train[selected_svc], y_train)\n",
        "\n",
        "print(search.best_params_)"
      ],
      "metadata": {
        "id": "vQ0mi_LYMkEN",
        "colab": {
          "base_uri": "https://localhost:8080/"
        },
        "outputId": "8ccadad7-39c4-4a83-9e6f-fe92785840c8"
      },
      "execution_count": 49,
      "outputs": [
        {
          "output_type": "stream",
          "name": "stdout",
          "text": [
            "{'C': 10}\n"
          ]
        }
      ]
    },
    {
      "cell_type": "code",
      "source": [
        "svc = SVC(random_state = 42, C = 10, kernel = 'linear')\n",
        "svc.fit(X_train[selected_svc], y_train)\n",
        "\n",
        "y_pred = svc.predict(X_test[selected_svc])\n",
        "accuracy_score(y_test, y_pred)"
      ],
      "metadata": {
        "colab": {
          "base_uri": "https://localhost:8080/"
        },
        "id": "yIA2GYOYum4G",
        "outputId": "f7227fca-8950-4647-866b-b082bdd27881"
      },
      "execution_count": 7,
      "outputs": [
        {
          "output_type": "execute_result",
          "data": {
            "text/plain": [
              "0.7466666666666667"
            ]
          },
          "metadata": {},
          "execution_count": 7
        }
      ]
    },
    {
      "cell_type": "code",
      "source": [
        "svc_coefs = pd.DataFrame(columns = [\"feature\", \"coef\"])\n",
        "svc_coefs[\"feature\"] = selected_svc\n",
        "svc_coefs[\"coef\"] = abs(svc.coef_[0])\n",
        "svc_coefs = svc_coefs.sort_values(\"coef\", ascending = False).reset_index(drop = True) # Las variables con mayor peso aquí son foreignworker, balance, statusprevcredit y phone\n",
        "svc_coefs"
      ],
      "metadata": {
        "colab": {
          "base_uri": "https://localhost:8080/",
          "height": 582
        },
        "id": "XWKkb6-g7qoM",
        "outputId": "ee83a2bf-1b9a-4779-ab50-c409f0c1838c"
      },
      "execution_count": 8,
      "outputs": [
        {
          "output_type": "execute_result",
          "data": {
            "text/plain": [
              "             feature      coef\n",
              "0      foreignworker  0.845553\n",
              "1            balance  0.382950\n",
              "2   statusprevcredit  0.382570\n",
              "3              phone  0.317740\n",
              "4     numcreditsbank  0.248688\n",
              "5         guarantors  0.240979\n",
              "6         instalment  0.201429\n",
              "7          apartment  0.198605\n",
              "8            savings  0.190062\n",
              "9         sexmarital  0.186066\n",
              "10      mostvalasset  0.155202\n",
              "11     lenemployment  0.119030\n",
              "12     numdependents  0.080552\n",
              "13        occupation  0.050001\n",
              "14        concurrent  0.044421\n",
              "15         durcredit  0.033657\n",
              "16        duraddress  0.031625"
            ],
            "text/html": [
              "\n",
              "  <div id=\"df-e435bc31-2b11-40c6-8e11-b1cdb4b00786\">\n",
              "    <div class=\"colab-df-container\">\n",
              "      <div>\n",
              "<style scoped>\n",
              "    .dataframe tbody tr th:only-of-type {\n",
              "        vertical-align: middle;\n",
              "    }\n",
              "\n",
              "    .dataframe tbody tr th {\n",
              "        vertical-align: top;\n",
              "    }\n",
              "\n",
              "    .dataframe thead th {\n",
              "        text-align: right;\n",
              "    }\n",
              "</style>\n",
              "<table border=\"1\" class=\"dataframe\">\n",
              "  <thead>\n",
              "    <tr style=\"text-align: right;\">\n",
              "      <th></th>\n",
              "      <th>feature</th>\n",
              "      <th>coef</th>\n",
              "    </tr>\n",
              "  </thead>\n",
              "  <tbody>\n",
              "    <tr>\n",
              "      <th>0</th>\n",
              "      <td>foreignworker</td>\n",
              "      <td>0.845553</td>\n",
              "    </tr>\n",
              "    <tr>\n",
              "      <th>1</th>\n",
              "      <td>balance</td>\n",
              "      <td>0.382950</td>\n",
              "    </tr>\n",
              "    <tr>\n",
              "      <th>2</th>\n",
              "      <td>statusprevcredit</td>\n",
              "      <td>0.382570</td>\n",
              "    </tr>\n",
              "    <tr>\n",
              "      <th>3</th>\n",
              "      <td>phone</td>\n",
              "      <td>0.317740</td>\n",
              "    </tr>\n",
              "    <tr>\n",
              "      <th>4</th>\n",
              "      <td>numcreditsbank</td>\n",
              "      <td>0.248688</td>\n",
              "    </tr>\n",
              "    <tr>\n",
              "      <th>5</th>\n",
              "      <td>guarantors</td>\n",
              "      <td>0.240979</td>\n",
              "    </tr>\n",
              "    <tr>\n",
              "      <th>6</th>\n",
              "      <td>instalment</td>\n",
              "      <td>0.201429</td>\n",
              "    </tr>\n",
              "    <tr>\n",
              "      <th>7</th>\n",
              "      <td>apartment</td>\n",
              "      <td>0.198605</td>\n",
              "    </tr>\n",
              "    <tr>\n",
              "      <th>8</th>\n",
              "      <td>savings</td>\n",
              "      <td>0.190062</td>\n",
              "    </tr>\n",
              "    <tr>\n",
              "      <th>9</th>\n",
              "      <td>sexmarital</td>\n",
              "      <td>0.186066</td>\n",
              "    </tr>\n",
              "    <tr>\n",
              "      <th>10</th>\n",
              "      <td>mostvalasset</td>\n",
              "      <td>0.155202</td>\n",
              "    </tr>\n",
              "    <tr>\n",
              "      <th>11</th>\n",
              "      <td>lenemployment</td>\n",
              "      <td>0.119030</td>\n",
              "    </tr>\n",
              "    <tr>\n",
              "      <th>12</th>\n",
              "      <td>numdependents</td>\n",
              "      <td>0.080552</td>\n",
              "    </tr>\n",
              "    <tr>\n",
              "      <th>13</th>\n",
              "      <td>occupation</td>\n",
              "      <td>0.050001</td>\n",
              "    </tr>\n",
              "    <tr>\n",
              "      <th>14</th>\n",
              "      <td>concurrent</td>\n",
              "      <td>0.044421</td>\n",
              "    </tr>\n",
              "    <tr>\n",
              "      <th>15</th>\n",
              "      <td>durcredit</td>\n",
              "      <td>0.033657</td>\n",
              "    </tr>\n",
              "    <tr>\n",
              "      <th>16</th>\n",
              "      <td>duraddress</td>\n",
              "      <td>0.031625</td>\n",
              "    </tr>\n",
              "  </tbody>\n",
              "</table>\n",
              "</div>\n",
              "      <button class=\"colab-df-convert\" onclick=\"convertToInteractive('df-e435bc31-2b11-40c6-8e11-b1cdb4b00786')\"\n",
              "              title=\"Convert this dataframe to an interactive table.\"\n",
              "              style=\"display:none;\">\n",
              "        \n",
              "  <svg xmlns=\"http://www.w3.org/2000/svg\" height=\"24px\"viewBox=\"0 0 24 24\"\n",
              "       width=\"24px\">\n",
              "    <path d=\"M0 0h24v24H0V0z\" fill=\"none\"/>\n",
              "    <path d=\"M18.56 5.44l.94 2.06.94-2.06 2.06-.94-2.06-.94-.94-2.06-.94 2.06-2.06.94zm-11 1L8.5 8.5l.94-2.06 2.06-.94-2.06-.94L8.5 2.5l-.94 2.06-2.06.94zm10 10l.94 2.06.94-2.06 2.06-.94-2.06-.94-.94-2.06-.94 2.06-2.06.94z\"/><path d=\"M17.41 7.96l-1.37-1.37c-.4-.4-.92-.59-1.43-.59-.52 0-1.04.2-1.43.59L10.3 9.45l-7.72 7.72c-.78.78-.78 2.05 0 2.83L4 21.41c.39.39.9.59 1.41.59.51 0 1.02-.2 1.41-.59l7.78-7.78 2.81-2.81c.8-.78.8-2.07 0-2.86zM5.41 20L4 18.59l7.72-7.72 1.47 1.35L5.41 20z\"/>\n",
              "  </svg>\n",
              "      </button>\n",
              "      \n",
              "  <style>\n",
              "    .colab-df-container {\n",
              "      display:flex;\n",
              "      flex-wrap:wrap;\n",
              "      gap: 12px;\n",
              "    }\n",
              "\n",
              "    .colab-df-convert {\n",
              "      background-color: #E8F0FE;\n",
              "      border: none;\n",
              "      border-radius: 50%;\n",
              "      cursor: pointer;\n",
              "      display: none;\n",
              "      fill: #1967D2;\n",
              "      height: 32px;\n",
              "      padding: 0 0 0 0;\n",
              "      width: 32px;\n",
              "    }\n",
              "\n",
              "    .colab-df-convert:hover {\n",
              "      background-color: #E2EBFA;\n",
              "      box-shadow: 0px 1px 2px rgba(60, 64, 67, 0.3), 0px 1px 3px 1px rgba(60, 64, 67, 0.15);\n",
              "      fill: #174EA6;\n",
              "    }\n",
              "\n",
              "    [theme=dark] .colab-df-convert {\n",
              "      background-color: #3B4455;\n",
              "      fill: #D2E3FC;\n",
              "    }\n",
              "\n",
              "    [theme=dark] .colab-df-convert:hover {\n",
              "      background-color: #434B5C;\n",
              "      box-shadow: 0px 1px 3px 1px rgba(0, 0, 0, 0.15);\n",
              "      filter: drop-shadow(0px 1px 2px rgba(0, 0, 0, 0.3));\n",
              "      fill: #FFFFFF;\n",
              "    }\n",
              "  </style>\n",
              "\n",
              "      <script>\n",
              "        const buttonEl =\n",
              "          document.querySelector('#df-e435bc31-2b11-40c6-8e11-b1cdb4b00786 button.colab-df-convert');\n",
              "        buttonEl.style.display =\n",
              "          google.colab.kernel.accessAllowed ? 'block' : 'none';\n",
              "\n",
              "        async function convertToInteractive(key) {\n",
              "          const element = document.querySelector('#df-e435bc31-2b11-40c6-8e11-b1cdb4b00786');\n",
              "          const dataTable =\n",
              "            await google.colab.kernel.invokeFunction('convertToInteractive',\n",
              "                                                     [key], {});\n",
              "          if (!dataTable) return;\n",
              "\n",
              "          const docLinkHtml = 'Like what you see? Visit the ' +\n",
              "            '<a target=\"_blank\" href=https://colab.research.google.com/notebooks/data_table.ipynb>data table notebook</a>'\n",
              "            + ' to learn more about interactive tables.';\n",
              "          element.innerHTML = '';\n",
              "          dataTable['output_type'] = 'display_data';\n",
              "          await google.colab.output.renderOutput(dataTable, element);\n",
              "          const docLink = document.createElement('div');\n",
              "          docLink.innerHTML = docLinkHtml;\n",
              "          element.appendChild(docLink);\n",
              "        }\n",
              "      </script>\n",
              "    </div>\n",
              "  </div>\n",
              "  "
            ]
          },
          "metadata": {},
          "execution_count": 8
        }
      ]
    },
    {
      "cell_type": "markdown",
      "source": [
        "### K Nearest Neighbors"
      ],
      "metadata": {
        "id": "UdYpkic3rAU2"
      }
    },
    {
      "cell_type": "code",
      "source": [
        "knn = KNeighborsClassifier()\n",
        "knn.fit(X_train, y_train)\n",
        "y_pred = knn.predict(X_test)\n",
        "accuracy_score(y_test, y_pred)"
      ],
      "metadata": {
        "colab": {
          "base_uri": "https://localhost:8080/"
        },
        "id": "WcrckqaHUPWZ",
        "outputId": "04d6b7cf-5973-4c5c-8a6e-08a2b434ed04"
      },
      "execution_count": 52,
      "outputs": [
        {
          "output_type": "execute_result",
          "data": {
            "text/plain": [
              "0.6666666666666666"
            ]
          },
          "metadata": {},
          "execution_count": 52
        }
      ]
    },
    {
      "cell_type": "code",
      "source": [
        "knn = KNeighborsClassifier() # Por default KNN no puede usarse con RFECV sin introducir valores de importancia, así que se usarán las mismas variables del Random Forest\n",
        "search = GridSearchCV(knn, {'n_neighbors' : [1, 2, 3, 4, 5, 6, 7, 8, 9, 10]})\n",
        "search = search.fit(X_train[selected_rf], y_train)\n",
        "print(search.best_params_)"
      ],
      "metadata": {
        "colab": {
          "base_uri": "https://localhost:8080/"
        },
        "id": "eoXk9GWQ-bhY",
        "outputId": "6552b65d-50a4-4720-fb29-3d93c80833ec"
      },
      "execution_count": 53,
      "outputs": [
        {
          "output_type": "stream",
          "name": "stdout",
          "text": [
            "{'n_neighbors': 9}\n"
          ]
        }
      ]
    },
    {
      "cell_type": "code",
      "source": [
        "knn = KNeighborsClassifier(n_neighbors = 9)\n",
        "knn.fit(X_train[selected_rf], y_train)\n",
        "y_pred = knn.predict(X_test[selected_rf])\n",
        "accuracy_score(y_test, y_pred)"
      ],
      "metadata": {
        "colab": {
          "base_uri": "https://localhost:8080/"
        },
        "id": "oCdpRQW7ynCo",
        "outputId": "cb50e812-6b48-47f7-9a1b-1ccbc3ff821f"
      },
      "execution_count": 54,
      "outputs": [
        {
          "output_type": "execute_result",
          "data": {
            "text/plain": [
              "0.6666666666666666"
            ]
          },
          "metadata": {},
          "execution_count": 54
        }
      ]
    },
    {
      "cell_type": "code",
      "source": [
        "knn = KNeighborsClassifier() # Lo mismo, pero ahora con los que sirvieron al SVC\n",
        "search = GridSearchCV(knn, {'n_neighbors' : [1, 2, 3, 4, 5, 6, 7, 8, 9, 10]})\n",
        "search = search.fit(X_train[selected_svc], y_train)\n",
        "print(search.best_params_)"
      ],
      "metadata": {
        "colab": {
          "base_uri": "https://localhost:8080/"
        },
        "id": "x_UPahdjyj6X",
        "outputId": "577cf2bf-2183-419d-ba41-140276641e8f"
      },
      "execution_count": 55,
      "outputs": [
        {
          "output_type": "stream",
          "name": "stdout",
          "text": [
            "{'n_neighbors': 9}\n"
          ]
        }
      ]
    },
    {
      "cell_type": "code",
      "source": [
        "knn = KNeighborsClassifier(n_neighbors = 9)\n",
        "knn.fit(X_train[selected_svc], y_train)\n",
        "y_pred = knn.predict(X_test[selected_svc])\n",
        "accuracy_score(y_test, y_pred) # Usar las variables del SVC dió un mejor resultado, pero no el mejor de todos los modelos"
      ],
      "metadata": {
        "id": "9jDjvAUpDXEe",
        "colab": {
          "base_uri": "https://localhost:8080/"
        },
        "outputId": "21c4c4cb-7597-48b3-ff4e-5d0eeebc4093"
      },
      "execution_count": 56,
      "outputs": [
        {
          "output_type": "execute_result",
          "data": {
            "text/plain": [
              "0.7066666666666667"
            ]
          },
          "metadata": {},
          "execution_count": 56
        }
      ]
    },
    {
      "cell_type": "markdown",
      "source": [
        "### Clasificador por Redes Neuronales\n"
      ],
      "metadata": {
        "id": "-xrLWLu8t94G"
      }
    },
    {
      "cell_type": "code",
      "source": [
        "# Primero se usó (20, 20, 20) para hidden layer sizes, dado que es la cantidad de variables del conjunto con tres capas\n",
        "mlp = MLPClassifier(hidden_layer_sizes = (20, 20, 20), max_iter = 750, random_state = 42)\n",
        "mlp.fit(X_train, y_train)\n",
        "y_pred = mlp.predict(X_test)\n",
        "print(accuracy_score(y_test, y_pred))"
      ],
      "metadata": {
        "colab": {
          "base_uri": "https://localhost:8080/"
        },
        "id": "1c47j6bF_AOW",
        "outputId": "3ae1c250-8478-4bd3-c69e-087271def63d"
      },
      "execution_count": 57,
      "outputs": [
        {
          "output_type": "stream",
          "name": "stdout",
          "text": [
            "0.6033333333333334\n"
          ]
        }
      ]
    },
    {
      "cell_type": "code",
      "source": [
        "len(selected_rf)"
      ],
      "metadata": {
        "colab": {
          "base_uri": "https://localhost:8080/"
        },
        "id": "VitLN09TzLXJ",
        "outputId": "85f06fce-d403-47da-917a-8d361733739f"
      },
      "execution_count": 58,
      "outputs": [
        {
          "output_type": "execute_result",
          "data": {
            "text/plain": [
              "16"
            ]
          },
          "metadata": {},
          "execution_count": 58
        }
      ]
    },
    {
      "cell_type": "code",
      "source": [
        "# Aquí se estan usando las variables que fueron las mejores para el Random Forest\n",
        "mlp = MLPClassifier(hidden_layer_sizes = (16, 16, 16), max_iter = 750, random_state = 42)\n",
        "mlp.fit(X_train[selected_rf], y_train)\n",
        "y_pred = mlp.predict(X_test[selected_rf])\n",
        "print(accuracy_score(y_test, y_pred))"
      ],
      "metadata": {
        "colab": {
          "base_uri": "https://localhost:8080/"
        },
        "id": "0vBA-mI2y8lX",
        "outputId": "956b8c39-f8af-4ff3-95c5-9c52ed6371da"
      },
      "execution_count": 59,
      "outputs": [
        {
          "output_type": "stream",
          "name": "stdout",
          "text": [
            "0.69\n"
          ]
        }
      ]
    },
    {
      "cell_type": "code",
      "source": [
        "len(selected_svc)"
      ],
      "metadata": {
        "colab": {
          "base_uri": "https://localhost:8080/"
        },
        "id": "6_jFV_2tzheO",
        "outputId": "1e2f5532-a653-4e69-cbcd-8230249da51e"
      },
      "execution_count": 60,
      "outputs": [
        {
          "output_type": "execute_result",
          "data": {
            "text/plain": [
              "17"
            ]
          },
          "metadata": {},
          "execution_count": 60
        }
      ]
    },
    {
      "cell_type": "code",
      "source": [
        "# Por ultimo se intentó con las variables del SVM\n",
        "mlp = MLPClassifier(hidden_layer_sizes = (17, 17, 17), max_iter = 1000, random_state = 42, activation = \"tanh\",)\n",
        "mlp.fit(X_train[selected_svc], y_train) # Se aumento max_iter a 1000 puesto a que al usar 750 dio la advertencia que no se llegó al punto de convergencia\n",
        "y_pred = mlp.predict(X_test[selected_svc])\n",
        "print(accuracy_score(y_test, y_pred)) # tanh = 0.74, relu = 0.72"
      ],
      "metadata": {
        "colab": {
          "base_uri": "https://localhost:8080/"
        },
        "id": "Pkmxv7jczKy8",
        "outputId": "79b8da2d-88c9-43d2-a737-f253ab45280c"
      },
      "execution_count": 61,
      "outputs": [
        {
          "output_type": "stream",
          "name": "stdout",
          "text": [
            "0.74\n"
          ]
        }
      ]
    },
    {
      "cell_type": "code",
      "source": [
        "# Ajuste de parámteros\n",
        "param_dict = {\n",
        "    \"hidden_layer_sizes\" : [(17, 17, 17, 17), (17, 34, 51, 68)],\n",
        "    \"solver\" : [\"adam\"],\n",
        "    \"alpha\" : [0.0001, 0.0005, 0.00075, 0.001, 0.0025, 0.0075, 0.005],\n",
        "    \"learning_rate\" : [\"constant\"],\n",
        "    \"activation\" : [\"relu\"],\n",
        "    \"learning_rate_init\" : [0.0001],\n",
        "    \"max_iter\" : [10000]\n",
        "}"
      ],
      "metadata": {
        "id": "ZW3YCcRkt3sY"
      },
      "execution_count": 62,
      "outputs": []
    },
    {
      "cell_type": "code",
      "source": [
        "mlp = MLPClassifier(random_state = 42)\n",
        "search_mlp = GridSearchCV(mlp, param_dict)\n",
        "search_mlp.fit(X_train[selected_svc], y_train)\n",
        "print(search_mlp.best_params_)"
      ],
      "metadata": {
        "colab": {
          "base_uri": "https://localhost:8080/"
        },
        "id": "WpEm-bjvTvlO",
        "outputId": "8ba1701e-e240-47ef-d0be-a6c52eabc7e1"
      },
      "execution_count": 63,
      "outputs": [
        {
          "output_type": "stream",
          "name": "stdout",
          "text": [
            "{'activation': 'relu', 'alpha': 0.0075, 'hidden_layer_sizes': (17, 17, 17, 17), 'learning_rate': 'constant', 'learning_rate_init': 0.0001, 'max_iter': 10000, 'solver': 'adam'}\n"
          ]
        }
      ]
    },
    {
      "cell_type": "code",
      "source": [
        "mlp = MLPClassifier(max_iter = 10000, learning_rate_init = 0.0001, random_state = 42, activation = \"relu\",\n",
        "                   hidden_layer_sizes = (17, 17, 17, 17), learning_rate = \"constant\", solver = \"adam\", alpha = 0.0005)\n",
        "mlp.fit(X_train[selected_svc], y_train)\n",
        "y_pred = mlp.predict(X_test[selected_svc])\n",
        "print(accuracy_score(y_test, y_pred))"
      ],
      "metadata": {
        "colab": {
          "base_uri": "https://localhost:8080/"
        },
        "id": "nuIjD7DqTyEV",
        "outputId": "e8ad2884-2033-42a1-b613-2203fd7a0f04"
      },
      "execution_count": 64,
      "outputs": [
        {
          "metadata": {
            "tags": null
          },
          "name": "stdout",
          "output_type": "stream",
          "text": [
            "0.7366666666666667\n"
          ]
        }
      ]
    }
  ]
}