{
  "nbformat": 4,
  "nbformat_minor": 0,
  "metadata": {
    "colab": {
      "provenance": []
    },
    "kernelspec": {
      "name": "python3",
      "display_name": "Python 3"
    },
    "language_info": {
      "name": "python"
    }
  },
  "cells": [
    {
      "cell_type": "markdown",
      "source": [
        "## Importación de librerías"
      ],
      "metadata": {
        "id": "ZUZ913dpttac"
      }
    },
    {
      "cell_type": "code",
      "source": [
        "# Importamos librerias\n",
        "import pandas as pd\n",
        "import numpy as np\n",
        "import seaborn as sns\n",
        "from sklearn.svm import SVC\n",
        "from sklearn.feature_selection import RFECV\n",
        "from sklearn.model_selection import GridSearchCV\n",
        "from sklearn.metrics import accuracy_score\n",
        "from sklearn.ensemble import RandomForestClassifier\n",
        "from sklearn.model_selection import train_test_split\n",
        "from sklearn.neighbors import KNeighborsClassifier\n",
        "from sklearn.neural_network import MLPClassifier\n",
        "from copy import deepcopy as dc\n",
        "from sklearn.linear_model import LogisticRegression\n",
        "from sklearn.model_selection import cross_validate\n",
        "\n",
        "# Dejamos que pandas nos permita ver todas las columnas\n",
        "pd.set_option('display.max_columns', None)"
      ],
      "metadata": {
        "id": "EwuZVRid_ZYy"
      },
      "execution_count": null,
      "outputs": []
    },
    {
      "cell_type": "markdown",
      "source": [
        "## Cargado de datos"
      ],
      "metadata": {
        "id": "AOCEx9krty5x"
      }
    },
    {
      "cell_type": "code",
      "source": [
        "# Cargamos conjunto de datos\n",
        "credit = pd.read_csv(\"https://online.stat.psu.edu/onlinecourses/sites/stat508/files/german_credit.csv\")\n",
        "credit_names_short = [\"creditability\", \"balance\", \"durcredit\", \"statusprevcredit\", \"purpose\", \"amount\", \"savings\", \"lenemployment\", \"instalment\",\n",
        "                      \"sexmarital\", \"guarantors\", \"duraddress\", \"mostvalasset\", \"age\", \"concurrent\", \"apartment\", \"numcreditsbank\", \"occupation\",\n",
        "                      \"numdependents\", \"phone\", \"foreignworker\"] # Definimos nombres cortos para las columnas\n",
        "credit_names_long = list(credit.columns)\n",
        "credit_names = dict(zip(credit_names_short, credit_names_long)) # Usamos dict() y zip() para hacer un diccionario que al insertar el nombre corto nos da el nombre largo\n",
        "credit.columns = credit_names_short # Asignamos los nombres cortos a los nombres de las columnas del conjunto"
      ],
      "metadata": {
        "id": "OAS7ip15_h5v"
      },
      "execution_count": null,
      "outputs": []
    },
    {
      "cell_type": "code",
      "source": [
        "credit.head()"
      ],
      "metadata": {
        "colab": {
          "base_uri": "https://localhost:8080/",
          "height": 270
        },
        "id": "TOR5sqOAAKcl",
        "outputId": "e7190ac4-8ad4-4c81-ae59-e33060517b6e"
      },
      "execution_count": null,
      "outputs": [
        {
          "output_type": "execute_result",
          "data": {
            "text/plain": [
              "   creditability  balance  durcredit  statusprevcredit  purpose  amount  \\\n",
              "0              1        1         18                 4        2    1049   \n",
              "1              1        1          9                 4        0    2799   \n",
              "2              1        2         12                 2        9     841   \n",
              "3              1        1         12                 4        0    2122   \n",
              "4              1        1         12                 4        0    2171   \n",
              "\n",
              "   savings  lenemployment  instalment  sexmarital  guarantors  duraddress  \\\n",
              "0        1              2           4           2           1           4   \n",
              "1        1              3           2           3           1           2   \n",
              "2        2              4           2           2           1           4   \n",
              "3        1              3           3           3           1           2   \n",
              "4        1              3           4           3           1           4   \n",
              "\n",
              "   mostvalasset  age  concurrent  apartment  numcreditsbank  occupation  \\\n",
              "0             2   21           3          1               1           3   \n",
              "1             1   36           3          1               2           3   \n",
              "2             1   23           3          1               1           2   \n",
              "3             1   39           3          1               2           2   \n",
              "4             2   38           1          2               2           2   \n",
              "\n",
              "   numdependents  phone  foreignworker  \n",
              "0              1      1              1  \n",
              "1              2      1              1  \n",
              "2              1      1              1  \n",
              "3              2      1              2  \n",
              "4              1      1              2  "
            ],
            "text/html": [
              "\n",
              "  <div id=\"df-f433077f-eb20-4864-8355-1d339f4bf803\">\n",
              "    <div class=\"colab-df-container\">\n",
              "      <div>\n",
              "<style scoped>\n",
              "    .dataframe tbody tr th:only-of-type {\n",
              "        vertical-align: middle;\n",
              "    }\n",
              "\n",
              "    .dataframe tbody tr th {\n",
              "        vertical-align: top;\n",
              "    }\n",
              "\n",
              "    .dataframe thead th {\n",
              "        text-align: right;\n",
              "    }\n",
              "</style>\n",
              "<table border=\"1\" class=\"dataframe\">\n",
              "  <thead>\n",
              "    <tr style=\"text-align: right;\">\n",
              "      <th></th>\n",
              "      <th>creditability</th>\n",
              "      <th>balance</th>\n",
              "      <th>durcredit</th>\n",
              "      <th>statusprevcredit</th>\n",
              "      <th>purpose</th>\n",
              "      <th>amount</th>\n",
              "      <th>savings</th>\n",
              "      <th>lenemployment</th>\n",
              "      <th>instalment</th>\n",
              "      <th>sexmarital</th>\n",
              "      <th>guarantors</th>\n",
              "      <th>duraddress</th>\n",
              "      <th>mostvalasset</th>\n",
              "      <th>age</th>\n",
              "      <th>concurrent</th>\n",
              "      <th>apartment</th>\n",
              "      <th>numcreditsbank</th>\n",
              "      <th>occupation</th>\n",
              "      <th>numdependents</th>\n",
              "      <th>phone</th>\n",
              "      <th>foreignworker</th>\n",
              "    </tr>\n",
              "  </thead>\n",
              "  <tbody>\n",
              "    <tr>\n",
              "      <th>0</th>\n",
              "      <td>1</td>\n",
              "      <td>1</td>\n",
              "      <td>18</td>\n",
              "      <td>4</td>\n",
              "      <td>2</td>\n",
              "      <td>1049</td>\n",
              "      <td>1</td>\n",
              "      <td>2</td>\n",
              "      <td>4</td>\n",
              "      <td>2</td>\n",
              "      <td>1</td>\n",
              "      <td>4</td>\n",
              "      <td>2</td>\n",
              "      <td>21</td>\n",
              "      <td>3</td>\n",
              "      <td>1</td>\n",
              "      <td>1</td>\n",
              "      <td>3</td>\n",
              "      <td>1</td>\n",
              "      <td>1</td>\n",
              "      <td>1</td>\n",
              "    </tr>\n",
              "    <tr>\n",
              "      <th>1</th>\n",
              "      <td>1</td>\n",
              "      <td>1</td>\n",
              "      <td>9</td>\n",
              "      <td>4</td>\n",
              "      <td>0</td>\n",
              "      <td>2799</td>\n",
              "      <td>1</td>\n",
              "      <td>3</td>\n",
              "      <td>2</td>\n",
              "      <td>3</td>\n",
              "      <td>1</td>\n",
              "      <td>2</td>\n",
              "      <td>1</td>\n",
              "      <td>36</td>\n",
              "      <td>3</td>\n",
              "      <td>1</td>\n",
              "      <td>2</td>\n",
              "      <td>3</td>\n",
              "      <td>2</td>\n",
              "      <td>1</td>\n",
              "      <td>1</td>\n",
              "    </tr>\n",
              "    <tr>\n",
              "      <th>2</th>\n",
              "      <td>1</td>\n",
              "      <td>2</td>\n",
              "      <td>12</td>\n",
              "      <td>2</td>\n",
              "      <td>9</td>\n",
              "      <td>841</td>\n",
              "      <td>2</td>\n",
              "      <td>4</td>\n",
              "      <td>2</td>\n",
              "      <td>2</td>\n",
              "      <td>1</td>\n",
              "      <td>4</td>\n",
              "      <td>1</td>\n",
              "      <td>23</td>\n",
              "      <td>3</td>\n",
              "      <td>1</td>\n",
              "      <td>1</td>\n",
              "      <td>2</td>\n",
              "      <td>1</td>\n",
              "      <td>1</td>\n",
              "      <td>1</td>\n",
              "    </tr>\n",
              "    <tr>\n",
              "      <th>3</th>\n",
              "      <td>1</td>\n",
              "      <td>1</td>\n",
              "      <td>12</td>\n",
              "      <td>4</td>\n",
              "      <td>0</td>\n",
              "      <td>2122</td>\n",
              "      <td>1</td>\n",
              "      <td>3</td>\n",
              "      <td>3</td>\n",
              "      <td>3</td>\n",
              "      <td>1</td>\n",
              "      <td>2</td>\n",
              "      <td>1</td>\n",
              "      <td>39</td>\n",
              "      <td>3</td>\n",
              "      <td>1</td>\n",
              "      <td>2</td>\n",
              "      <td>2</td>\n",
              "      <td>2</td>\n",
              "      <td>1</td>\n",
              "      <td>2</td>\n",
              "    </tr>\n",
              "    <tr>\n",
              "      <th>4</th>\n",
              "      <td>1</td>\n",
              "      <td>1</td>\n",
              "      <td>12</td>\n",
              "      <td>4</td>\n",
              "      <td>0</td>\n",
              "      <td>2171</td>\n",
              "      <td>1</td>\n",
              "      <td>3</td>\n",
              "      <td>4</td>\n",
              "      <td>3</td>\n",
              "      <td>1</td>\n",
              "      <td>4</td>\n",
              "      <td>2</td>\n",
              "      <td>38</td>\n",
              "      <td>1</td>\n",
              "      <td>2</td>\n",
              "      <td>2</td>\n",
              "      <td>2</td>\n",
              "      <td>1</td>\n",
              "      <td>1</td>\n",
              "      <td>2</td>\n",
              "    </tr>\n",
              "  </tbody>\n",
              "</table>\n",
              "</div>\n",
              "      <button class=\"colab-df-convert\" onclick=\"convertToInteractive('df-f433077f-eb20-4864-8355-1d339f4bf803')\"\n",
              "              title=\"Convert this dataframe to an interactive table.\"\n",
              "              style=\"display:none;\">\n",
              "        \n",
              "  <svg xmlns=\"http://www.w3.org/2000/svg\" height=\"24px\"viewBox=\"0 0 24 24\"\n",
              "       width=\"24px\">\n",
              "    <path d=\"M0 0h24v24H0V0z\" fill=\"none\"/>\n",
              "    <path d=\"M18.56 5.44l.94 2.06.94-2.06 2.06-.94-2.06-.94-.94-2.06-.94 2.06-2.06.94zm-11 1L8.5 8.5l.94-2.06 2.06-.94-2.06-.94L8.5 2.5l-.94 2.06-2.06.94zm10 10l.94 2.06.94-2.06 2.06-.94-2.06-.94-.94-2.06-.94 2.06-2.06.94z\"/><path d=\"M17.41 7.96l-1.37-1.37c-.4-.4-.92-.59-1.43-.59-.52 0-1.04.2-1.43.59L10.3 9.45l-7.72 7.72c-.78.78-.78 2.05 0 2.83L4 21.41c.39.39.9.59 1.41.59.51 0 1.02-.2 1.41-.59l7.78-7.78 2.81-2.81c.8-.78.8-2.07 0-2.86zM5.41 20L4 18.59l7.72-7.72 1.47 1.35L5.41 20z\"/>\n",
              "  </svg>\n",
              "      </button>\n",
              "      \n",
              "  <style>\n",
              "    .colab-df-container {\n",
              "      display:flex;\n",
              "      flex-wrap:wrap;\n",
              "      gap: 12px;\n",
              "    }\n",
              "\n",
              "    .colab-df-convert {\n",
              "      background-color: #E8F0FE;\n",
              "      border: none;\n",
              "      border-radius: 50%;\n",
              "      cursor: pointer;\n",
              "      display: none;\n",
              "      fill: #1967D2;\n",
              "      height: 32px;\n",
              "      padding: 0 0 0 0;\n",
              "      width: 32px;\n",
              "    }\n",
              "\n",
              "    .colab-df-convert:hover {\n",
              "      background-color: #E2EBFA;\n",
              "      box-shadow: 0px 1px 2px rgba(60, 64, 67, 0.3), 0px 1px 3px 1px rgba(60, 64, 67, 0.15);\n",
              "      fill: #174EA6;\n",
              "    }\n",
              "\n",
              "    [theme=dark] .colab-df-convert {\n",
              "      background-color: #3B4455;\n",
              "      fill: #D2E3FC;\n",
              "    }\n",
              "\n",
              "    [theme=dark] .colab-df-convert:hover {\n",
              "      background-color: #434B5C;\n",
              "      box-shadow: 0px 1px 3px 1px rgba(0, 0, 0, 0.15);\n",
              "      filter: drop-shadow(0px 1px 2px rgba(0, 0, 0, 0.3));\n",
              "      fill: #FFFFFF;\n",
              "    }\n",
              "  </style>\n",
              "\n",
              "      <script>\n",
              "        const buttonEl =\n",
              "          document.querySelector('#df-f433077f-eb20-4864-8355-1d339f4bf803 button.colab-df-convert');\n",
              "        buttonEl.style.display =\n",
              "          google.colab.kernel.accessAllowed ? 'block' : 'none';\n",
              "\n",
              "        async function convertToInteractive(key) {\n",
              "          const element = document.querySelector('#df-f433077f-eb20-4864-8355-1d339f4bf803');\n",
              "          const dataTable =\n",
              "            await google.colab.kernel.invokeFunction('convertToInteractive',\n",
              "                                                     [key], {});\n",
              "          if (!dataTable) return;\n",
              "\n",
              "          const docLinkHtml = 'Like what you see? Visit the ' +\n",
              "            '<a target=\"_blank\" href=https://colab.research.google.com/notebooks/data_table.ipynb>data table notebook</a>'\n",
              "            + ' to learn more about interactive tables.';\n",
              "          element.innerHTML = '';\n",
              "          dataTable['output_type'] = 'display_data';\n",
              "          await google.colab.output.renderOutput(dataTable, element);\n",
              "          const docLink = document.createElement('div');\n",
              "          docLink.innerHTML = docLinkHtml;\n",
              "          element.appendChild(docLink);\n",
              "        }\n",
              "      </script>\n",
              "    </div>\n",
              "  </div>\n",
              "  "
            ]
          },
          "metadata": {},
          "execution_count": 6
        }
      ]
    },
    {
      "cell_type": "markdown",
      "source": [
        "## Análisis exploratorio"
      ],
      "metadata": {
        "id": "vUFSLjcwSScH"
      }
    },
    {
      "cell_type": "code",
      "source": [
        "credit.info()"
      ],
      "metadata": {
        "colab": {
          "base_uri": "https://localhost:8080/"
        },
        "id": "-RQ_FSJXAT0M",
        "outputId": "797a9192-a8b1-4f88-ed90-826315243345"
      },
      "execution_count": null,
      "outputs": [
        {
          "output_type": "stream",
          "name": "stdout",
          "text": [
            "<class 'pandas.core.frame.DataFrame'>\n",
            "RangeIndex: 1000 entries, 0 to 999\n",
            "Data columns (total 21 columns):\n",
            " #   Column            Non-Null Count  Dtype\n",
            "---  ------            --------------  -----\n",
            " 0   creditability     1000 non-null   int64\n",
            " 1   balance           1000 non-null   int64\n",
            " 2   durcredit         1000 non-null   int64\n",
            " 3   statusprevcredit  1000 non-null   int64\n",
            " 4   purpose           1000 non-null   int64\n",
            " 5   amount            1000 non-null   int64\n",
            " 6   savings           1000 non-null   int64\n",
            " 7   lenemployment     1000 non-null   int64\n",
            " 8   instalment        1000 non-null   int64\n",
            " 9   sexmarital        1000 non-null   int64\n",
            " 10  guarantors        1000 non-null   int64\n",
            " 11  duraddress        1000 non-null   int64\n",
            " 12  mostvalasset      1000 non-null   int64\n",
            " 13  age               1000 non-null   int64\n",
            " 14  concurrent        1000 non-null   int64\n",
            " 15  apartment         1000 non-null   int64\n",
            " 16  numcreditsbank    1000 non-null   int64\n",
            " 17  occupation        1000 non-null   int64\n",
            " 18  numdependents     1000 non-null   int64\n",
            " 19  phone             1000 non-null   int64\n",
            " 20  foreignworker     1000 non-null   int64\n",
            "dtypes: int64(21)\n",
            "memory usage: 164.2 KB\n"
          ]
        }
      ]
    },
    {
      "cell_type": "markdown",
      "source": [
        "El conjunto se compone de 1000 renglones, cada uno representando a una persona que esta pidiendo un préstamo. En cada renglón tenemos 20 variables, la primera siendo la variable dependiente del proyecto: Creditability. Este es un valor binario que determina si una persona puede recibir el crédito y que probablemente lo va a liquidar.\n",
        "\n",
        "El objetivo de este proyecto es generar un modelo que tome en cuenta las variables del conjunto para clasificar a las personas en dos grupos: 1, puede recibir un crédito y 0, no puede recibir un crédito. La intención es asumir correctamente ambos grupos pues al prestar a alguien que no puede liquidar la empresa pierde dinero y también al negar un préstamo a alquien que si puede pagarlo la empresa pierde un cliente potencial.\n",
        "\n",
        "Se intentarán diferentes modelos, y se observará cuál de todos los modelos clasifica a los clientes potenciales con una mayor tasa de éxito.\n",
        "\n",
        "Dentro del conjunto no hay valores nulos, y al realiza una pequeña exploración podemos asumir con confianza que no es necesario aplicar pasos de limpieza o procesamiento. Muchos de las variables están en una especie de código o categorización, para entender el significado de cada uno puede dirigirse a esta página: https://online.stat.psu.edu/stat508/lesson/gcd\n"
      ],
      "metadata": {
        "id": "tEkx7YTWAu3r"
      }
    },
    {
      "cell_type": "markdown",
      "source": [
        "Las variables de mayor importancia son:\n",
        "- Credit Amount\n",
        "- Account Balance\n",
        "- Age (years)\n",
        "- Duration of Credit (month)\n",
        "- Purpose \n",
        "\n",
        "En la prueba de modelos se mostrará como se decidió que estas son las variables más importantes"
      ],
      "metadata": {
        "id": "tymwQ49hnGSH"
      }
    },
    {
      "cell_type": "code",
      "source": [
        "top_features_list = ['amount', 'balance', 'age', 'durcredit', 'purpose']\n",
        "\n",
        "top_features = dc(credit[top_features_list])\n",
        "top_features.columns = list(map(lambda x: credit_names[x], top_features_list))\n",
        "top_features"
      ],
      "metadata": {
        "colab": {
          "base_uri": "https://localhost:8080/",
          "height": 424
        },
        "id": "7_JbaqcLndrY",
        "outputId": "dc2e26dd-c3aa-4a8c-90fa-dfbe64e27382"
      },
      "execution_count": null,
      "outputs": [
        {
          "output_type": "execute_result",
          "data": {
            "text/plain": [
              "     Credit Amount  Account Balance  Age (years)  Duration of Credit (month)  \\\n",
              "0             1049                1           21                          18   \n",
              "1             2799                1           36                           9   \n",
              "2              841                2           23                          12   \n",
              "3             2122                1           39                          12   \n",
              "4             2171                1           38                          12   \n",
              "..             ...              ...          ...                         ...   \n",
              "995           1987                1           21                          24   \n",
              "996           2303                1           45                          24   \n",
              "997          12680                4           30                          21   \n",
              "998           6468                2           52                          12   \n",
              "999           6350                1           31                          30   \n",
              "\n",
              "     Purpose  \n",
              "0          2  \n",
              "1          0  \n",
              "2          9  \n",
              "3          0  \n",
              "4          0  \n",
              "..       ...  \n",
              "995        3  \n",
              "996        0  \n",
              "997        0  \n",
              "998        3  \n",
              "999        2  \n",
              "\n",
              "[1000 rows x 5 columns]"
            ],
            "text/html": [
              "\n",
              "  <div id=\"df-c91d9086-45ce-46a5-ba40-4bf262b85195\">\n",
              "    <div class=\"colab-df-container\">\n",
              "      <div>\n",
              "<style scoped>\n",
              "    .dataframe tbody tr th:only-of-type {\n",
              "        vertical-align: middle;\n",
              "    }\n",
              "\n",
              "    .dataframe tbody tr th {\n",
              "        vertical-align: top;\n",
              "    }\n",
              "\n",
              "    .dataframe thead th {\n",
              "        text-align: right;\n",
              "    }\n",
              "</style>\n",
              "<table border=\"1\" class=\"dataframe\">\n",
              "  <thead>\n",
              "    <tr style=\"text-align: right;\">\n",
              "      <th></th>\n",
              "      <th>Credit Amount</th>\n",
              "      <th>Account Balance</th>\n",
              "      <th>Age (years)</th>\n",
              "      <th>Duration of Credit (month)</th>\n",
              "      <th>Purpose</th>\n",
              "    </tr>\n",
              "  </thead>\n",
              "  <tbody>\n",
              "    <tr>\n",
              "      <th>0</th>\n",
              "      <td>1049</td>\n",
              "      <td>1</td>\n",
              "      <td>21</td>\n",
              "      <td>18</td>\n",
              "      <td>2</td>\n",
              "    </tr>\n",
              "    <tr>\n",
              "      <th>1</th>\n",
              "      <td>2799</td>\n",
              "      <td>1</td>\n",
              "      <td>36</td>\n",
              "      <td>9</td>\n",
              "      <td>0</td>\n",
              "    </tr>\n",
              "    <tr>\n",
              "      <th>2</th>\n",
              "      <td>841</td>\n",
              "      <td>2</td>\n",
              "      <td>23</td>\n",
              "      <td>12</td>\n",
              "      <td>9</td>\n",
              "    </tr>\n",
              "    <tr>\n",
              "      <th>3</th>\n",
              "      <td>2122</td>\n",
              "      <td>1</td>\n",
              "      <td>39</td>\n",
              "      <td>12</td>\n",
              "      <td>0</td>\n",
              "    </tr>\n",
              "    <tr>\n",
              "      <th>4</th>\n",
              "      <td>2171</td>\n",
              "      <td>1</td>\n",
              "      <td>38</td>\n",
              "      <td>12</td>\n",
              "      <td>0</td>\n",
              "    </tr>\n",
              "    <tr>\n",
              "      <th>...</th>\n",
              "      <td>...</td>\n",
              "      <td>...</td>\n",
              "      <td>...</td>\n",
              "      <td>...</td>\n",
              "      <td>...</td>\n",
              "    </tr>\n",
              "    <tr>\n",
              "      <th>995</th>\n",
              "      <td>1987</td>\n",
              "      <td>1</td>\n",
              "      <td>21</td>\n",
              "      <td>24</td>\n",
              "      <td>3</td>\n",
              "    </tr>\n",
              "    <tr>\n",
              "      <th>996</th>\n",
              "      <td>2303</td>\n",
              "      <td>1</td>\n",
              "      <td>45</td>\n",
              "      <td>24</td>\n",
              "      <td>0</td>\n",
              "    </tr>\n",
              "    <tr>\n",
              "      <th>997</th>\n",
              "      <td>12680</td>\n",
              "      <td>4</td>\n",
              "      <td>30</td>\n",
              "      <td>21</td>\n",
              "      <td>0</td>\n",
              "    </tr>\n",
              "    <tr>\n",
              "      <th>998</th>\n",
              "      <td>6468</td>\n",
              "      <td>2</td>\n",
              "      <td>52</td>\n",
              "      <td>12</td>\n",
              "      <td>3</td>\n",
              "    </tr>\n",
              "    <tr>\n",
              "      <th>999</th>\n",
              "      <td>6350</td>\n",
              "      <td>1</td>\n",
              "      <td>31</td>\n",
              "      <td>30</td>\n",
              "      <td>2</td>\n",
              "    </tr>\n",
              "  </tbody>\n",
              "</table>\n",
              "<p>1000 rows × 5 columns</p>\n",
              "</div>\n",
              "      <button class=\"colab-df-convert\" onclick=\"convertToInteractive('df-c91d9086-45ce-46a5-ba40-4bf262b85195')\"\n",
              "              title=\"Convert this dataframe to an interactive table.\"\n",
              "              style=\"display:none;\">\n",
              "        \n",
              "  <svg xmlns=\"http://www.w3.org/2000/svg\" height=\"24px\"viewBox=\"0 0 24 24\"\n",
              "       width=\"24px\">\n",
              "    <path d=\"M0 0h24v24H0V0z\" fill=\"none\"/>\n",
              "    <path d=\"M18.56 5.44l.94 2.06.94-2.06 2.06-.94-2.06-.94-.94-2.06-.94 2.06-2.06.94zm-11 1L8.5 8.5l.94-2.06 2.06-.94-2.06-.94L8.5 2.5l-.94 2.06-2.06.94zm10 10l.94 2.06.94-2.06 2.06-.94-2.06-.94-.94-2.06-.94 2.06-2.06.94z\"/><path d=\"M17.41 7.96l-1.37-1.37c-.4-.4-.92-.59-1.43-.59-.52 0-1.04.2-1.43.59L10.3 9.45l-7.72 7.72c-.78.78-.78 2.05 0 2.83L4 21.41c.39.39.9.59 1.41.59.51 0 1.02-.2 1.41-.59l7.78-7.78 2.81-2.81c.8-.78.8-2.07 0-2.86zM5.41 20L4 18.59l7.72-7.72 1.47 1.35L5.41 20z\"/>\n",
              "  </svg>\n",
              "      </button>\n",
              "      \n",
              "  <style>\n",
              "    .colab-df-container {\n",
              "      display:flex;\n",
              "      flex-wrap:wrap;\n",
              "      gap: 12px;\n",
              "    }\n",
              "\n",
              "    .colab-df-convert {\n",
              "      background-color: #E8F0FE;\n",
              "      border: none;\n",
              "      border-radius: 50%;\n",
              "      cursor: pointer;\n",
              "      display: none;\n",
              "      fill: #1967D2;\n",
              "      height: 32px;\n",
              "      padding: 0 0 0 0;\n",
              "      width: 32px;\n",
              "    }\n",
              "\n",
              "    .colab-df-convert:hover {\n",
              "      background-color: #E2EBFA;\n",
              "      box-shadow: 0px 1px 2px rgba(60, 64, 67, 0.3), 0px 1px 3px 1px rgba(60, 64, 67, 0.15);\n",
              "      fill: #174EA6;\n",
              "    }\n",
              "\n",
              "    [theme=dark] .colab-df-convert {\n",
              "      background-color: #3B4455;\n",
              "      fill: #D2E3FC;\n",
              "    }\n",
              "\n",
              "    [theme=dark] .colab-df-convert:hover {\n",
              "      background-color: #434B5C;\n",
              "      box-shadow: 0px 1px 3px 1px rgba(0, 0, 0, 0.15);\n",
              "      filter: drop-shadow(0px 1px 2px rgba(0, 0, 0, 0.3));\n",
              "      fill: #FFFFFF;\n",
              "    }\n",
              "  </style>\n",
              "\n",
              "      <script>\n",
              "        const buttonEl =\n",
              "          document.querySelector('#df-c91d9086-45ce-46a5-ba40-4bf262b85195 button.colab-df-convert');\n",
              "        buttonEl.style.display =\n",
              "          google.colab.kernel.accessAllowed ? 'block' : 'none';\n",
              "\n",
              "        async function convertToInteractive(key) {\n",
              "          const element = document.querySelector('#df-c91d9086-45ce-46a5-ba40-4bf262b85195');\n",
              "          const dataTable =\n",
              "            await google.colab.kernel.invokeFunction('convertToInteractive',\n",
              "                                                     [key], {});\n",
              "          if (!dataTable) return;\n",
              "\n",
              "          const docLinkHtml = 'Like what you see? Visit the ' +\n",
              "            '<a target=\"_blank\" href=https://colab.research.google.com/notebooks/data_table.ipynb>data table notebook</a>'\n",
              "            + ' to learn more about interactive tables.';\n",
              "          element.innerHTML = '';\n",
              "          dataTable['output_type'] = 'display_data';\n",
              "          await google.colab.output.renderOutput(dataTable, element);\n",
              "          const docLink = document.createElement('div');\n",
              "          docLink.innerHTML = docLinkHtml;\n",
              "          element.appendChild(docLink);\n",
              "        }\n",
              "      </script>\n",
              "    </div>\n",
              "  </div>\n",
              "  "
            ]
          },
          "metadata": {},
          "execution_count": 5
        }
      ]
    },
    {
      "cell_type": "code",
      "source": [
        "sns.set(rc={'figure.figsize' : (10, 8)})"
      ],
      "metadata": {
        "id": "CVERU65onEZY"
      },
      "execution_count": null,
      "outputs": []
    },
    {
      "cell_type": "code",
      "source": [
        "# Credit Amount\n",
        "sns.histplot(data = top_features, x = \"Credit Amount\")"
      ],
      "metadata": {
        "colab": {
          "base_uri": "https://localhost:8080/",
          "height": 519
        },
        "id": "jXgJ8S9dnPHz",
        "outputId": "c6687afd-1d1c-4277-a871-2836ccf640ae"
      },
      "execution_count": null,
      "outputs": [
        {
          "output_type": "execute_result",
          "data": {
            "text/plain": [
              "<matplotlib.axes._subplots.AxesSubplot at 0x7f4c59fed280>"
            ]
          },
          "metadata": {},
          "execution_count": 7
        },
        {
          "output_type": "display_data",
          "data": {
            "text/plain": [
              "<Figure size 720x576 with 1 Axes>"
            ],
            "image/png": "[encoded data removed]"
          },
          "metadata": {}
        }
      ]
    },
    {
      "cell_type": "code",
      "source": [
        "# Account Balance\n",
        "balance_dict = {1 : \"No account\", 2 : \"No balance\", 3 : \"0 - 200 DM\", 4 : \"200+ DM or account 1+ year old\"}\n",
        "\n",
        "balance_counts = pd.DataFrame()\n",
        "balance_counts[\"Count\"] = credit[\"balance\"].value_counts().values\n",
        "balance_counts[\"Account Balance\"] = list(map(lambda x: balance_dict[x], credit[\"balance\"].value_counts().index))\n",
        "balance_counts = balance_counts.sort_values(\"Account Balance\")\n",
        "sns.barplot(data = balance_counts, x = \"Account Balance\", y = \"Count\")"
      ],
      "metadata": {
        "colab": {
          "base_uri": "https://localhost:8080/",
          "height": 519
        },
        "id": "QIYq_DZBnQEb",
        "outputId": "bf56afdb-e483-4d1e-f4e0-0c6f63f9c64c"
      },
      "execution_count": null,
      "outputs": [
        {
          "output_type": "execute_result",
          "data": {
            "text/plain": [
              "<matplotlib.axes._subplots.AxesSubplot at 0x7f4c599ff130>"
            ]
          },
          "metadata": {},
          "execution_count": 8
        },
        {
          "output_type": "display_data",
          "data": {
            "text/plain": [
              "<Figure size 720x576 with 1 Axes>"
            ],
            "image/png": "[encoded data removed]"
          },
          "metadata": {}
        }
      ]
    },
    {
      "cell_type": "code",
      "source": [
        "# Age (years)\n",
        "sns.histplot(data = top_features, x = \"Age (years)\")"
      ],
      "metadata": {
        "colab": {
          "base_uri": "https://localhost:8080/",
          "height": 519
        },
        "id": "YSg3qG2NnRNY",
        "outputId": "92a593c4-2235-4b82-bb81-fbf227d1902a"
      },
      "execution_count": null,
      "outputs": [
        {
          "output_type": "execute_result",
          "data": {
            "text/plain": [
              "<matplotlib.axes._subplots.AxesSubplot at 0x7f4c5997a3d0>"
            ]
          },
          "metadata": {},
          "execution_count": 9
        },
        {
          "output_type": "display_data",
          "data": {
            "text/plain": [
              "<Figure size 720x576 with 1 Axes>"
            ],
            "image/png": "[encoded data removed]"
          },
          "metadata": {}
        }
      ]
    },
    {
      "cell_type": "code",
      "source": [
        "# Duration of Credit (month)\n",
        "sns.histplot(data = top_features, x = \"Duration of Credit (month)\")"
      ],
      "metadata": {
        "colab": {
          "base_uri": "https://localhost:8080/",
          "height": 519
        },
        "id": "lbwSG-xFnSZV",
        "outputId": "763e5cb0-f1f1-4479-f24c-ea0ce7b1b3c3"
      },
      "execution_count": null,
      "outputs": [
        {
          "output_type": "execute_result",
          "data": {
            "text/plain": [
              "<matplotlib.axes._subplots.AxesSubplot at 0x7f4c598f76d0>"
            ]
          },
          "metadata": {},
          "execution_count": 10
        },
        {
          "output_type": "display_data",
          "data": {
            "text/plain": [
              "<Figure size 720x576 with 1 Axes>"
            ],
            "image/png": "[encoded data removed]"
          },
          "metadata": {}
        }
      ]
    },
    {
      "cell_type": "code",
      "source": [
        "# Purpose\n",
        "purpose_dict = {1 : \"New Car\", 2 : \"Used Car\", 3 : \"Furniture\", 4 : \"Radio/TV\", 5 : \"Appliances\", 6 : \"Repair\",\n",
        "                7 : \"Education\", 8 : \"Vacation\", 9 : \"Retraining\", 10 : \"Business\", 0 : \"Other\"}\n",
        "purpose_counts = pd.DataFrame()\n",
        "purpose_counts[\"Count\"] = credit[\"purpose\"].value_counts().values\n",
        "purpose_counts[\"Purpose\"] = list(map(lambda x: purpose_dict[x], credit[\"purpose\"].value_counts().index))\n",
        "purpose_counts = purpose_counts.sort_values(\"Purpose\")\n",
        "sns.barplot(data = purpose_counts, x = \"Purpose\", y = \"Count\")"
      ],
      "metadata": {
        "colab": {
          "base_uri": "https://localhost:8080/",
          "height": 519
        },
        "id": "dqadcT8znTnU",
        "outputId": "ad5dbfea-e9fd-4f81-9e27-f0749a5fb2e4"
      },
      "execution_count": null,
      "outputs": [
        {
          "output_type": "execute_result",
          "data": {
            "text/plain": [
              "<matplotlib.axes._subplots.AxesSubplot at 0x7f4c59925a60>"
            ]
          },
          "metadata": {},
          "execution_count": 11
        },
        {
          "output_type": "display_data",
          "data": {
            "text/plain": [
              "<Figure size 720x576 with 1 Axes>"
            ],
            "image/png": "[encoded data removed]"
          },
          "metadata": {}
        }
      ]
    },
    {
      "cell_type": "code",
      "source": [
        "top_features[[\"Duration of Credit (month)\", \"Credit Amount\", \"Age (years)\"]].corr() # Estas son las únicas variables del conjunto que no son categóricas"
      ],
      "metadata": {
        "colab": {
          "base_uri": "https://localhost:8080/",
          "height": 143
        },
        "id": "XjWx2fAInVnP",
        "outputId": "63410e9a-b65f-4c63-ef93-a6ef28d864a7"
      },
      "execution_count": null,
      "outputs": [
        {
          "output_type": "execute_result",
          "data": {
            "text/plain": [
              "                            Duration of Credit (month)  Credit Amount  \\\n",
              "Duration of Credit (month)                    1.000000       0.624988   \n",
              "Credit Amount                                 0.624988       1.000000   \n",
              "Age (years)                                  -0.037550       0.032273   \n",
              "\n",
              "                            Age (years)  \n",
              "Duration of Credit (month)    -0.037550  \n",
              "Credit Amount                  0.032273  \n",
              "Age (years)                    1.000000  "
            ],
            "text/html": [
              "\n",
              "  <div id=\"df-a48edd0e-3ee0-42aa-9877-62722cf9f5e7\">\n",
              "    <div class=\"colab-df-container\">\n",
              "      <div>\n",
              "<style scoped>\n",
              "    .dataframe tbody tr th:only-of-type {\n",
              "        vertical-align: middle;\n",
              "    }\n",
              "\n",
              "    .dataframe tbody tr th {\n",
              "        vertical-align: top;\n",
              "    }\n",
              "\n",
              "    .dataframe thead th {\n",
              "        text-align: right;\n",
              "    }\n",
              "</style>\n",
              "<table border=\"1\" class=\"dataframe\">\n",
              "  <thead>\n",
              "    <tr style=\"text-align: right;\">\n",
              "      <th></th>\n",
              "      <th>Duration of Credit (month)</th>\n",
              "      <th>Credit Amount</th>\n",
              "      <th>Age (years)</th>\n",
              "    </tr>\n",
              "  </thead>\n",
              "  <tbody>\n",
              "    <tr>\n",
              "      <th>Duration of Credit (month)</th>\n",
              "      <td>1.000000</td>\n",
              "      <td>0.624988</td>\n",
              "      <td>-0.037550</td>\n",
              "    </tr>\n",
              "    <tr>\n",
              "      <th>Credit Amount</th>\n",
              "      <td>0.624988</td>\n",
              "      <td>1.000000</td>\n",
              "      <td>0.032273</td>\n",
              "    </tr>\n",
              "    <tr>\n",
              "      <th>Age (years)</th>\n",
              "      <td>-0.037550</td>\n",
              "      <td>0.032273</td>\n",
              "      <td>1.000000</td>\n",
              "    </tr>\n",
              "  </tbody>\n",
              "</table>\n",
              "</div>\n",
              "      <button class=\"colab-df-convert\" onclick=\"convertToInteractive('df-a48edd0e-3ee0-42aa-9877-62722cf9f5e7')\"\n",
              "              title=\"Convert this dataframe to an interactive table.\"\n",
              "              style=\"display:none;\">\n",
              "        \n",
              "  <svg xmlns=\"http://www.w3.org/2000/svg\" height=\"24px\"viewBox=\"0 0 24 24\"\n",
              "       width=\"24px\">\n",
              "    <path d=\"M0 0h24v24H0V0z\" fill=\"none\"/>\n",
              "    <path d=\"M18.56 5.44l.94 2.06.94-2.06 2.06-.94-2.06-.94-.94-2.06-.94 2.06-2.06.94zm-11 1L8.5 8.5l.94-2.06 2.06-.94-2.06-.94L8.5 2.5l-.94 2.06-2.06.94zm10 10l.94 2.06.94-2.06 2.06-.94-2.06-.94-.94-2.06-.94 2.06-2.06.94z\"/><path d=\"M17.41 7.96l-1.37-1.37c-.4-.4-.92-.59-1.43-.59-.52 0-1.04.2-1.43.59L10.3 9.45l-7.72 7.72c-.78.78-.78 2.05 0 2.83L4 21.41c.39.39.9.59 1.41.59.51 0 1.02-.2 1.41-.59l7.78-7.78 2.81-2.81c.8-.78.8-2.07 0-2.86zM5.41 20L4 18.59l7.72-7.72 1.47 1.35L5.41 20z\"/>\n",
              "  </svg>\n",
              "      </button>\n",
              "      \n",
              "  <style>\n",
              "    .colab-df-container {\n",
              "      display:flex;\n",
              "      flex-wrap:wrap;\n",
              "      gap: 12px;\n",
              "    }\n",
              "\n",
              "    .colab-df-convert {\n",
              "      background-color: #E8F0FE;\n",
              "      border: none;\n",
              "      border-radius: 50%;\n",
              "      cursor: pointer;\n",
              "      display: none;\n",
              "      fill: #1967D2;\n",
              "      height: 32px;\n",
              "      padding: 0 0 0 0;\n",
              "      width: 32px;\n",
              "    }\n",
              "\n",
              "    .colab-df-convert:hover {\n",
              "      background-color: #E2EBFA;\n",
              "      box-shadow: 0px 1px 2px rgba(60, 64, 67, 0.3), 0px 1px 3px 1px rgba(60, 64, 67, 0.15);\n",
              "      fill: #174EA6;\n",
              "    }\n",
              "\n",
              "    [theme=dark] .colab-df-convert {\n",
              "      background-color: #3B4455;\n",
              "      fill: #D2E3FC;\n",
              "    }\n",
              "\n",
              "    [theme=dark] .colab-df-convert:hover {\n",
              "      background-color: #434B5C;\n",
              "      box-shadow: 0px 1px 3px 1px rgba(0, 0, 0, 0.15);\n",
              "      filter: drop-shadow(0px 1px 2px rgba(0, 0, 0, 0.3));\n",
              "      fill: #FFFFFF;\n",
              "    }\n",
              "  </style>\n",
              "\n",
              "      <script>\n",
              "        const buttonEl =\n",
              "          document.querySelector('#df-a48edd0e-3ee0-42aa-9877-62722cf9f5e7 button.colab-df-convert');\n",
              "        buttonEl.style.display =\n",
              "          google.colab.kernel.accessAllowed ? 'block' : 'none';\n",
              "\n",
              "        async function convertToInteractive(key) {\n",
              "          const element = document.querySelector('#df-a48edd0e-3ee0-42aa-9877-62722cf9f5e7');\n",
              "          const dataTable =\n",
              "            await google.colab.kernel.invokeFunction('convertToInteractive',\n",
              "                                                     [key], {});\n",
              "          if (!dataTable) return;\n",
              "\n",
              "          const docLinkHtml = 'Like what you see? Visit the ' +\n",
              "            '<a target=\"_blank\" href=https://colab.research.google.com/notebooks/data_table.ipynb>data table notebook</a>'\n",
              "            + ' to learn more about interactive tables.';\n",
              "          element.innerHTML = '';\n",
              "          dataTable['output_type'] = 'display_data';\n",
              "          await google.colab.output.renderOutput(dataTable, element);\n",
              "          const docLink = document.createElement('div');\n",
              "          docLink.innerHTML = docLinkHtml;\n",
              "          element.appendChild(docLink);\n",
              "        }\n",
              "      </script>\n",
              "    </div>\n",
              "  </div>\n",
              "  "
            ]
          },
          "metadata": {},
          "execution_count": 12
        }
      ]
    },
    {
      "cell_type": "code",
      "source": [
        "sns.pairplot(top_features[[\"Duration of Credit (month)\", \"Credit Amount\", \"Age (years)\"]]) # Parece haber una correlación no muy duerte de la cantidad del crédito y la duración"
      ],
      "metadata": {
        "colab": {
          "base_uri": "https://localhost:8080/",
          "height": 560
        },
        "id": "zgQJIEfanWVI",
        "outputId": "ff733847-04aa-411f-fddb-ec39ba37bc4b"
      },
      "execution_count": null,
      "outputs": [
        {
          "output_type": "execute_result",
          "data": {
            "text/plain": [
              "<seaborn.axisgrid.PairGrid at 0x7f4c59ee5550>"
            ]
          },
          "metadata": {},
          "execution_count": 13
        },
        {
          "output_type": "display_data",
          "data": {
            "text/plain": [
              "<Figure size 540x540 with 12 Axes>"
            ],
            "image/png": "[encoded data removed]"
          },
          "metadata": {}
        }
      ]
    },
    {
      "cell_type": "markdown",
      "source": [
        "## Prueba de modelos"
      ],
      "metadata": {
        "id": "x14qhXFWt3yC"
      }
    },
    {
      "cell_type": "markdown",
      "source": [
        "### Creación de conjuntos de entrenamiento y prueba"
      ],
      "metadata": {
        "id": "X40iBSO8uqee"
      }
    },
    {
      "cell_type": "code",
      "source": [
        "X = credit[credit_names_short[1:]] # Se escogen todas las variables menos la primera, creditability\n",
        "y = credit[\"creditability\"] # Se escoge la variable dependiente\n",
        "\n",
        "X_train, X_test, y_train, y_test = train_test_split(X, y, test_size = 0.3, random_state = 42)"
      ],
      "metadata": {
        "id": "f4Mj2ixku6yz"
      },
      "execution_count": null,
      "outputs": []
    },
    {
      "cell_type": "markdown",
      "source": [
        "### Random Forest"
      ],
      "metadata": {
        "id": "17PYTjPCt9vv"
      }
    },
    {
      "cell_type": "code",
      "source": [
        "forest = RandomForestClassifier(random_state = 42)\n",
        "forest.fit(X_train, y_train)\n",
        "print(cross_validate(forest, X, y)[\"test_score\"].mean()) # El accuracy score que nos da usando todas las variables y los parámetros default es de 73.6%"
      ],
      "metadata": {
        "colab": {
          "base_uri": "https://localhost:8080/"
        },
        "id": "Zu-qYF0Oay6W",
        "outputId": "b890e46b-26b1-416d-aa0a-eeb00ccd9e87"
      },
      "execution_count": null,
      "outputs": [
        {
          "output_type": "stream",
          "name": "stdout",
          "text": [
            "0.736\n"
          ]
        }
      ]
    },
    {
      "cell_type": "code",
      "source": [
        "forest = RandomForestClassifier(random_state = 42)\n",
        "\n",
        "selector = RFECV(forest) # Usamos un seleccionador de variables con cross-validation\n",
        "selector.fit(X_train, y_train)\n",
        "selected_fr = X.columns[selector.support_] # El seleccionador nos regresa el conjunto de variables que nos dará el mejor resultado\n",
        "\n",
        "forest.fit(X_train[selected_fr], y_train)\n",
        "# y_pred = forest.predict(X_test[selected]\n",
        "print(cross_validate(forest, X[selected_fr], y)[\"test_score\"].mean()) # Al usar las variables seleccionadas, nuestro accuracy score baja, pero este valor es más confiable puesto a que fue por un cross-validation de 5 folds"
      ],
      "metadata": {
        "colab": {
          "base_uri": "https://localhost:8080/"
        },
        "id": "oVwi6G_yS9Cj",
        "outputId": "daefc25c-b293-4529-b407-7b3dd8b2d8e2"
      },
      "execution_count": null,
      "outputs": [
        {
          "output_type": "stream",
          "name": "stdout",
          "text": [
            "0.725\n"
          ]
        }
      ]
    },
    {
      "cell_type": "code",
      "source": [
        "forest = RandomForestClassifier(random_state = 42)\n",
        "\n",
        "# Optimización de parámetros, usando las variables seleccionadas\n",
        "search = GridSearchCV(forest, {'n_estimators' : [100, 500, 1000], 'criterion' : ['gini', 'entropy'], 'max_depth' : [6, 8, 10]})\n",
        "search.fit(X_train[selected_fr], y_train)\n",
        "\n",
        "print(search.best_params_)"
      ],
      "metadata": {
        "id": "cFUDs3bXEuAT",
        "colab": {
          "base_uri": "https://localhost:8080/"
        },
        "outputId": "ad41f2cd-f22c-4123-92d5-27fdbf166fa3"
      },
      "execution_count": null,
      "outputs": [
        {
          "output_type": "stream",
          "name": "stdout",
          "text": [
            "{'criterion': 'entropy', 'max_depth': 8, 'n_estimators': 500}\n"
          ]
        }
      ]
    },
    {
      "cell_type": "code",
      "source": [
        "forest = RandomForestClassifier(random_state = 42, criterion = \"entropy\", max_depth = 8, n_estimators = 500)\n",
        "forest.fit(X_train[selected_fr], y_train)\n",
        "\n",
        "y_pred = forest.predict(X_test[selected_fr])\n",
        "\n",
        "print(cross_validate(forest, X[selected_fr], y)[\"test_score\"].mean()) # Después de usar los mejores parámetros y las variables ideales, nuestro accuracy score solo baja un 3.33% a comparación de la configuración default\n",
        "# Sin embargo, este modelo es más fiable puesto a que fué por el proceso de cross validation tanto en su selección de variables como su optimización de parámetros\n",
        "# 73.80%"
      ],
      "metadata": {
        "colab": {
          "base_uri": "https://localhost:8080/"
        },
        "id": "cn9nmgLnou5c",
        "outputId": "355a6159-33c8-46d8-b90b-51adad0ca43a"
      },
      "execution_count": 132,
      "outputs": [
        {
          "output_type": "stream",
          "name": "stdout",
          "text": [
            "0.7380000000000001\n"
          ]
        }
      ]
    },
    {
      "cell_type": "markdown",
      "source": [
        "### Support Vector Machine"
      ],
      "metadata": {
        "id": "zWEcQmRut7cl"
      }
    },
    {
      "cell_type": "code",
      "source": [
        "svc = SVC(random_state = 42)\n",
        "print(cross_validate(svc, X, y)[\"test_score\"].mean())\n",
        "# All vars, default params, 70.5%"
      ],
      "metadata": {
        "id": "wwK52EckUFoa"
      },
      "execution_count": null,
      "outputs": []
    },
    {
      "cell_type": "code",
      "source": [
        "svc = SVC(random_state = 42, kernel = 'linear') # Se usó el modelo lineal dado que provee un mayor nivel de precisión y se puede usar fácilmente con RFECV\n",
        "selector_svc = RFECV(svc) \n",
        "selector_svc.fit(X_train, y_train)\n",
        "selected_svc = X.columns[selector_svc.support_]"
      ],
      "metadata": {
        "id": "_Dt_G8GBvczA"
      },
      "execution_count": null,
      "outputs": []
    },
    {
      "cell_type": "code",
      "source": [
        "print(cross_validate(svc, X[selected_svc], y)[\"test_score\"].mean()) # Vanilla params, selected vars \n",
        "# 73.01%"
      ],
      "metadata": {
        "colab": {
          "base_uri": "https://localhost:8080/"
        },
        "id": "NmpNSVyMv0J1",
        "outputId": "1cc4f42b-8cfa-42b4-e157-12bf806c15f6"
      },
      "execution_count": null,
      "outputs": [
        {
          "output_type": "stream",
          "name": "stdout",
          "text": [
            "0.7310000000000001\n"
          ]
        }
      ]
    },
    {
      "cell_type": "code",
      "source": [
        "svc = SVC(random_state = 42, kernel = 'linear')\n",
        "\n",
        "search = GridSearchCV(svc, {'C' : [0.1, 1, 10, 100]})\n",
        "search.fit(X_train[selected_svc], y_train)\n",
        "\n",
        "print(search.best_params_)"
      ],
      "metadata": {
        "id": "vQ0mi_LYMkEN",
        "colab": {
          "base_uri": "https://localhost:8080/"
        },
        "outputId": "c8d6388a-c2be-4024-984e-70aa024e310f"
      },
      "execution_count": null,
      "outputs": [
        {
          "output_type": "stream",
          "name": "stdout",
          "text": [
            "{'C': 1}\n"
          ]
        }
      ]
    },
    {
      "cell_type": "code",
      "source": [
        "svc = SVC(random_state = 42, C = 1, kernel = 'linear')\n",
        "print(cross_validate(svc, X[selected_svc], y)[\"test_score\"].mean()) # Searched params, selected vars \n",
        "# 73.1%"
      ],
      "metadata": {
        "colab": {
          "base_uri": "https://localhost:8080/"
        },
        "id": "yIA2GYOYum4G",
        "outputId": "fa528e61-ffca-4a4b-8e96-440fe5b2b6a2"
      },
      "execution_count": null,
      "outputs": [
        {
          "output_type": "stream",
          "name": "stdout",
          "text": [
            "0.7310000000000001\n"
          ]
        }
      ]
    },
    {
      "cell_type": "markdown",
      "source": [
        "### Regresión Logistica"
      ],
      "metadata": {
        "id": "onAUb-tqQ8E2"
      }
    },
    {
      "cell_type": "code",
      "source": [
        "logmodel = LogisticRegression(random_state = 42, max_iter = 500)\n",
        "print(cross_validate(logmodel, X_train, y_train)[\"test_score\"].mean()) # Default params, all variables Test = 75.71%"
      ],
      "metadata": {
        "colab": {
          "base_uri": "https://localhost:8080/"
        },
        "id": "ft4DfsF5RJvH",
        "outputId": "309f9a97-7548-463f-ce8a-dc74f4de25bd"
      },
      "execution_count": null,
      "outputs": [
        {
          "output_type": "stream",
          "name": "stdout",
          "text": [
            "0.7571428571428571\n"
          ]
        }
      ]
    },
    {
      "cell_type": "code",
      "source": [
        "logmodel = LogisticRegression(random_state = 42, max_iter = 500)\n",
        "select = RFECV(logmodel)\n",
        "select.fit(X_train, y_train)\n",
        "selected_lr = X.columns[select.support_]\n",
        "print(selected_lr)"
      ],
      "metadata": {
        "colab": {
          "base_uri": "https://localhost:8080/"
        },
        "id": "C4_mmXdDSjrw",
        "outputId": "5c12e984-02cb-48a2-f26d-8ab97a8adfcb"
      },
      "execution_count": null,
      "outputs": [
        {
          "output_type": "stream",
          "name": "stdout",
          "text": [
            "Index(['balance', 'durcredit', 'statusprevcredit', 'purpose', 'savings',\n",
            "       'lenemployment', 'instalment', 'sexmarital', 'guarantors',\n",
            "       'mostvalasset', 'concurrent', 'apartment', 'numcreditsbank',\n",
            "       'occupation', 'phone', 'foreignworker'],\n",
            "      dtype='object')\n"
          ]
        }
      ]
    },
    {
      "cell_type": "code",
      "source": [
        "logmodel = LogisticRegression(random_state = 42, max_iter = 500)\n",
        "print(cross_validate(logmodel, X_train[selected_lr], y_train)[\"test_score\"].mean()) # Default params, selected vars Test = 76.28%"
      ],
      "metadata": {
        "colab": {
          "base_uri": "https://localhost:8080/"
        },
        "id": "bJkzwkEmS5YS",
        "outputId": "8017ed37-c9ed-464b-861e-2113e7485655"
      },
      "execution_count": null,
      "outputs": [
        {
          "output_type": "stream",
          "name": "stdout",
          "text": [
            "0.7628571428571428\n"
          ]
        }
      ]
    },
    {
      "cell_type": "markdown",
      "source": [
        "#### Param optimization"
      ],
      "metadata": {
        "id": "zReHzq2kipby"
      }
    },
    {
      "cell_type": "code",
      "source": [
        "param_dict = {\n",
        "    \"random_state\" : [42],\n",
        "    \"max_iter\" : [100000],\n",
        "    \"solver\" : [\"lbfgs\"],\n",
        "    \"penalty\" : [\"l2\"],\n",
        "    \"C\" : [10, 12.5, 25, 37.5, 50],\n",
        "    \"tol\" : [0.00005, 0.0001, 0.0005, 0.001, 0.005],\n",
        "    \"intercept_scaling\" : [0.00005, 0.0001, 0.0005, 0.001, 0.005]\n",
        "} # Optimal, for the moment\n",
        "# Best params: {'C': 25, 'intercept_scaling': 5e-05, 'max_iter': 100000, 'penalty': 'l2', 'random_state': 42, 'solver': 'lbfgs', 'tol': 5e-05}\n",
        "# Search time: 00:00:25\n",
        "# CV score: 76.85%"
      ],
      "metadata": {
        "id": "3K-b7g_IWp1s"
      },
      "execution_count": null,
      "outputs": []
    },
    {
      "cell_type": "code",
      "source": [
        "logmodel = LogisticRegression()\n",
        "\n",
        "search = GridSearchCV(logmodel, param_dict)\n",
        "search.fit(X_train[selected_lr], y_train)\n",
        "\n",
        "print(search.best_params_)"
      ],
      "metadata": {
        "colab": {
          "base_uri": "https://localhost:8080/"
        },
        "id": "P24Nz-vZTHn8",
        "outputId": "fc6f16bd-6243-4c21-e995-c0cf8bb75ec5"
      },
      "execution_count": null,
      "outputs": [
        {
          "output_type": "stream",
          "name": "stdout",
          "text": [
            "{'C': 25, 'intercept_scaling': 0.01, 'max_iter': 100000, 'penalty': 'l2', 'random_state': 42, 'solver': 'lbfgs', 'tol': 0.01}\n"
          ]
        }
      ]
    },
    {
      "cell_type": "code",
      "source": [
        "param_dict = {\n",
        "    \"random_state\" : [42],\n",
        "    \"max_iter\" : [1000000], # lotta zeros\n",
        "    \"solver\" : [\"liblinear\"],\n",
        "    \"penalty\" : [\"l1\"],\n",
        "    \"C\" : [10, 12.5, 25, 37.5, 50],\n",
        "    \"tol\" : [1e-2, 1e-3, 1e-4, 1e-5, 1e-6],\n",
        "    \"intercept_scaling\" : [0.01, 0.1, 1, 10, 100]\n",
        "} # Optimal, for the moment\n",
        "# Best params: {'C': 37.5, 'intercept_scaling': 0.1, 'max_iter': 1000000, 'penalty': 'l1', 'random_state': 42, 'solver': 'liblinear', 'tol': 0.0001}\n",
        "# Search time: 00:00:16\n",
        "# CV score: 76.85%"
      ],
      "metadata": {
        "id": "axIqFurdWtqW"
      },
      "execution_count": null,
      "outputs": []
    },
    {
      "cell_type": "code",
      "source": [
        "logmodel = LogisticRegression()\n",
        "\n",
        "search = GridSearchCV(logmodel, param_dict)\n",
        "search.fit(X_train[selected_lr], y_train)\n",
        "\n",
        "print(search.best_params_)"
      ],
      "metadata": {
        "colab": {
          "base_uri": "https://localhost:8080/"
        },
        "id": "TJEIy2-Ud1eb",
        "outputId": "d5e32651-5ebc-429f-e9fc-d0bab3847183"
      },
      "execution_count": null,
      "outputs": [
        {
          "output_type": "stream",
          "name": "stdout",
          "text": [
            "{'C': 37.5, 'intercept_scaling': 0.1, 'max_iter': 1000000, 'penalty': 'l1', 'random_state': 42, 'solver': 'liblinear', 'tol': 0.0001}\n"
          ]
        }
      ]
    },
    {
      "cell_type": "code",
      "source": [
        "param_dict = {\n",
        "    \"random_state\" : [42],\n",
        "    \"max_iter\" : [1000000], # lotta zeros\n",
        "    \"solver\" : [\"liblinear\"],\n",
        "    \"penalty\" : [\"l2\"],\n",
        "    \"C\" : [10, 12.5, 25, 37.5, 50],\n",
        "    \"dual\" : [True], # split true and false so it doesnt take forever\n",
        "    \"tol\" : [1e-2, 1e-3, 1e-4, 1e-5, 1e-6],\n",
        "    \"intercept_scaling\" : [0.01, 0.1, 1, 10, 100]\n",
        "}\n",
        "# Best params: {'C': 12.5, 'dual': True, 'intercept_scaling': 100, 'max_iter': 1000000, 'penalty': 'l2', 'random_state': 42, 'solver': 'liblinear', 'tol': 0.01}\n",
        "# Search time: 04:06:00\n",
        "# CV score: 74.9%"
      ],
      "metadata": {
        "id": "YfsrnYcXbVUq"
      },
      "execution_count": null,
      "outputs": []
    },
    {
      "cell_type": "code",
      "source": [
        "logmodel = LogisticRegression()\n",
        "\n",
        "search = GridSearchCV(logmodel, param_dict)\n",
        "search.fit(X_train[selected_lr], y_train)\n",
        "\n",
        "print(search.best_params_)"
      ],
      "metadata": {
        "id": "QZDaIgPg4rUb"
      },
      "execution_count": null,
      "outputs": []
    },
    {
      "cell_type": "code",
      "source": [
        "param_dict = {\n",
        "    \"random_state\" : [42],\n",
        "    \"max_iter\" : [1000000], # lotta zeros\n",
        "    \"solver\" : [\"liblinear\"],\n",
        "    \"penalty\" : [\"l2\"],\n",
        "    \"C\" : [10, 12.5, 25, 37.5, 50],\n",
        "    \"dual\" : [False],\n",
        "    \"tol\" : [1e-2, 1e-3, 1e-4, 1e-5, 1e-6],\n",
        "    \"intercept_scaling\" : [0.01, 0.1, 1, 10, 100]\n",
        "} # Optimal, for the moment\n",
        "# Best params: {'C': 25, 'dual': False, 'intercept_scaling': 10, 'max_iter': 1000000, 'penalty': 'l2', 'random_state': 42, 'solver': 'liblinear', 'tol': 0.001}\n",
        "# Training time: 00:00:03\n",
        "# CV score: 74.9%"
      ],
      "metadata": {
        "id": "DGjw2smp4qjA"
      },
      "execution_count": null,
      "outputs": []
    },
    {
      "cell_type": "code",
      "source": [
        "logmodel = LogisticRegression()\n",
        "\n",
        "search = GridSearchCV(logmodel, param_dict)\n",
        "search.fit(X_train[selected_lr], y_train)\n",
        "\n",
        "print(search.best_params_)"
      ],
      "metadata": {
        "id": "VFQ3_EQfd159"
      },
      "execution_count": null,
      "outputs": []
    },
    {
      "cell_type": "code",
      "source": [
        "param_dict = {\n",
        "    \"random_state\" : [42],\n",
        "    \"max_iter\" : [1000000],\n",
        "    \"solver\" : [\"saga\"],\n",
        "    \"penalty\" : [\"l1\", \"l2\"], # elasticnet needs l1 ratio, so it was moved to the next dict\n",
        "    \"C\" : [12.5, 25, 37.5],\n",
        "    \"tol\" : [1e-5, 1e-6, 1e-7, 1e-8, 1e-9],\n",
        "    \"intercept_scaling\" : [0.00001, 0.0001, 0.001, 0.01, 0.1]\n",
        "} # Optimal, for the moment\n",
        "# Best params: {'C': 25, 'intercept_scaling': 1e-05, 'max_iter': 1000000, 'penalty': 'l2', 'random_state': 42, 'solver': 'saga', 'tol': 1e-06}\n",
        "# Training time: 00:34:20\n",
        "# CV score: 74.9%"
      ],
      "metadata": {
        "id": "6caGxzt5WudU"
      },
      "execution_count": null,
      "outputs": []
    },
    {
      "cell_type": "code",
      "source": [
        "logmodel = LogisticRegression()\n",
        "\n",
        "search = GridSearchCV(logmodel, param_dict)\n",
        "search.fit(X_train[selected_lr], y_train)\n",
        "\n",
        "print(search.best_params_)"
      ],
      "metadata": {
        "id": "CRF_-Dnnd2Yx"
      },
      "execution_count": null,
      "outputs": []
    },
    {
      "cell_type": "code",
      "source": [
        "param_dict = {\n",
        "    \"random_state\" : [42],\n",
        "    \"max_iter\" : [1000000],\n",
        "    \"solver\" : [\"saga\"],\n",
        "    \"penalty\" : [\"elasticnet\"], \n",
        "    \"C\" : [10, 12.5, 25, 37.5, 50],\n",
        "    \"l1_ratio\" : [0.1, 0.25, 0.5, 0.75, 0.9],\n",
        "    \"tol\" : [1e-2, 1e-3, 1e-4, 1e-5, 1e-6],\n",
        "    \"intercept_scaling\" : [0.01, 0.1, 1, 10, 100]\n",
        "} \n",
        "# Best params: {'C': 25, 'intercept_scaling': 0.01, 'l1_ratio': 0.1, 'max_iter': 1000000, 'penalty': 'elasticnet', 'random_state': 42, 'solver': 'saga', 'tol': 1e-06}\n",
        "# Search time: 01:41:25\n",
        "# CV score: 74.9%"
      ],
      "metadata": {
        "id": "FgdkOf98XtyN"
      },
      "execution_count": null,
      "outputs": []
    },
    {
      "cell_type": "code",
      "source": [
        "logmodel = LogisticRegression()\n",
        "\n",
        "search = GridSearchCV(logmodel, param_dict)\n",
        "search.fit(X_train[selected_lr], y_train)\n",
        "\n",
        "print(search.best_params_)"
      ],
      "metadata": {
        "id": "_0CApdICd223"
      },
      "execution_count": null,
      "outputs": []
    },
    {
      "cell_type": "code",
      "source": [
        "# Parameters to play with:\n",
        "# C\n",
        "# solver\n",
        "# tol\n",
        "# intercept_scaling\n",
        "# penalty\n",
        "# l1_ratio (only saga elasticnet)\n",
        "# dual (only liblinear l2)"
      ],
      "metadata": {
        "id": "yuJkaX8YYNUg"
      },
      "execution_count": null,
      "outputs": []
    },
    {
      "cell_type": "code",
      "source": [
        "# Warning The choice of the algorithm depends on the penalty chosen.\n",
        "# Supported penalties by solver: (\"None\" was excluded)\n",
        "# ‘lbfgs’ - [‘l2’]\n",
        "# ‘newton-cg’ - [‘l2’]\n",
        "# ‘newton-cholesky’ - [‘l2’]\n",
        "# ‘sag’ - [‘l2’]\n",
        "# ‘liblinear’ - [‘l1’, ‘l2’]\n",
        "# ‘saga’ - [‘elasticnet’, ‘l1’, ‘l2’]"
      ],
      "metadata": {
        "id": "FVn9B5hMV3Wq"
      },
      "execution_count": null,
      "outputs": []
    },
    {
      "cell_type": "code",
      "source": [
        "logmodel = LogisticRegression(C = 37.5, intercept_scaling = 0.1, max_iter = 1000000, penalty = \"l1\", random_state = 42, solver = \"liblinear\", tol = 0.0001)\n",
        "print(cross_validate(logmodel, X_train[selected_lr], y_train)[\"test_score\"].mean()) # Best version, 76.85%"
      ],
      "metadata": {
        "colab": {
          "base_uri": "https://localhost:8080/"
        },
        "id": "k1VlHMucTY5H",
        "outputId": "d09573c2-642d-4b50-b27a-ead12edba8ec"
      },
      "execution_count": null,
      "outputs": [
        {
          "output_type": "stream",
          "name": "stdout",
          "text": [
            "0.7671428571428571\n"
          ]
        }
      ]
    },
    {
      "cell_type": "code",
      "source": [
        "{'C': 37.5, 'intercept_scaling': 0.1, 'max_iter': 1000000, 'penalty': 'l1', 'random_state': 42, 'solver': 'liblinear', 'tol': 0.0001}"
      ],
      "metadata": {
        "id": "ktChPpI25Aof"
      },
      "execution_count": null,
      "outputs": []
    },
    {
      "cell_type": "markdown",
      "source": [
        "### K Nearest Neighbors"
      ],
      "metadata": {
        "id": "UdYpkic3rAU2"
      }
    },
    {
      "cell_type": "code",
      "source": [
        "knn = KNeighborsClassifier()\n",
        "print(cross_validate(knn, X, y)[\"test_score\"].mean())\n",
        "# Default params, all vars 64.8 %"
      ],
      "metadata": {
        "colab": {
          "base_uri": "https://localhost:8080/"
        },
        "id": "gXwGbAj3XE0V",
        "outputId": "77b3f79e-c664-4ff0-8c85-9f69647d5d0b"
      },
      "execution_count": null,
      "outputs": [
        {
          "output_type": "stream",
          "name": "stdout",
          "text": [
            "0.648\n"
          ]
        }
      ]
    },
    {
      "cell_type": "code",
      "source": [
        "param_dict = {\n",
        "    'n_neighbors' : [9, 10, 11, 12, 13],\n",
        "    'weights' : ['uniform', 'distance'], \n",
        "    'algorithm' : ['auto'], # tried others, all searches chose auto always\n",
        "    'leaf_size' : [1e-10], # doesnt seem to affect result that much\n",
        "    'p' : [1, 2, 3], # p cant be less than 1 ##\n",
        "    'n_jobs' : [-1]\n",
        "}"
      ],
      "metadata": {
        "id": "SrZykd1XXco7"
      },
      "execution_count": null,
      "outputs": []
    },
    {
      "cell_type": "code",
      "source": [
        "knn = KNeighborsClassifier()\n",
        "search = GridSearchCV(knn, param_dict)\n",
        "search = search.fit(X_train[selected_fr], y_train)\n",
        "print(search.best_params_)\n",
        "# {'algorithm': 'auto', 'leaf_size': 30, 'n_jobs': -1, 'n_neighbors': 11, 'p': 1, 'weights': 'uniform'}\n",
        "# 68.9%"
      ],
      "metadata": {
        "colab": {
          "base_uri": "https://localhost:8080/"
        },
        "id": "eoXk9GWQ-bhY",
        "outputId": "7dfffa73-4e31-4de8-94c5-472f85bda5fa"
      },
      "execution_count": null,
      "outputs": [
        {
          "output_type": "stream",
          "name": "stdout",
          "text": [
            "{'algorithm': 'auto', 'leaf_size': 1e-21, 'n_jobs': -1, 'n_neighbors': 11, 'p': 1, 'weights': 'uniform'}\n"
          ]
        }
      ]
    },
    {
      "cell_type": "code",
      "source": [
        "knn = KNeighborsClassifier()\n",
        "search = GridSearchCV(knn, param_dict)\n",
        "search = search.fit(X_train[selected_svc], y_train)\n",
        "print(search.best_params_)\n",
        "# {'algorithm': 'auto', 'leaf_size': 30, 'n_jobs': -1, 'n_neighbors': 11, 'p': 3, 'weights': 'uniform'}\n",
        "# 71.29%"
      ],
      "metadata": {
        "colab": {
          "base_uri": "https://localhost:8080/"
        },
        "id": "aPp-2DZbYlxu",
        "outputId": "53718e21-7263-4515-beb3-592eb831a8c4"
      },
      "execution_count": null,
      "outputs": [
        {
          "output_type": "stream",
          "name": "stdout",
          "text": [
            "{'algorithm': 'auto', 'leaf_size': 1e-21, 'n_jobs': -1, 'n_neighbors': 11, 'p': 3, 'weights': 'uniform'}\n"
          ]
        }
      ]
    },
    {
      "cell_type": "code",
      "source": [
        "knn = KNeighborsClassifier() # Por default KNN no puede usarse con RFECV sin introducir valores de importancia, así que se usarán las mismas variables del Random Forest\n",
        "search = GridSearchCV(knn, param_dict)\n",
        "search = search.fit(X_train[selected_lr], y_train)\n",
        "print(search.best_params_)\n",
        "# {'algorithm': 'auto', 'leaf_size': 30, 'n_jobs': -1, 'n_neighbors': 11, 'p': 1, 'weights': 'distance'}\n",
        "# 71.29%"
      ],
      "metadata": {
        "colab": {
          "base_uri": "https://localhost:8080/"
        },
        "id": "aUUAsqa6Yqz3",
        "outputId": "051dd71f-206a-4011-baeb-c7b4ff231b5f"
      },
      "execution_count": null,
      "outputs": [
        {
          "output_type": "stream",
          "name": "stdout",
          "text": [
            "{'algorithm': 'auto', 'leaf_size': 1e-21, 'n_jobs': -1, 'n_neighbors': 11, 'p': 1, 'weights': 'distance'}\n"
          ]
        }
      ]
    },
    {
      "cell_type": "code",
      "source": [
        "knn = KNeighborsClassifier(algorithm = \"auto\", leaf_size = 30, n_jobs = -1, n_neighbors = 11,\n",
        "                           p = 1, weights = \"uniform\")\n",
        "print(cross_validate(knn, X[selected_fr], y)[\"test_score\"].mean())"
      ],
      "metadata": {
        "colab": {
          "base_uri": "https://localhost:8080/"
        },
        "id": "s-X7adIcgqgk",
        "outputId": "b0e27f14-a514-42c0-95e7-a81e03143b00"
      },
      "execution_count": null,
      "outputs": [
        {
          "output_type": "stream",
          "name": "stdout",
          "text": [
            "0.689\n"
          ]
        }
      ]
    },
    {
      "cell_type": "code",
      "source": [
        "knn = KNeighborsClassifier(algorithm = \"auto\", leaf_size = 30, n_jobs = -1, n_neighbors = 11,\n",
        "                           p = 3, weights = \"uniform\")\n",
        "print(cross_validate(knn, X[selected_svc], y)[\"test_score\"].mean())"
      ],
      "metadata": {
        "colab": {
          "base_uri": "https://localhost:8080/"
        },
        "id": "jev2k1J3gqi4",
        "outputId": "8610371f-6191-409d-fb26-90ead03df250"
      },
      "execution_count": null,
      "outputs": [
        {
          "output_type": "stream",
          "name": "stdout",
          "text": [
            "0.7129999999999999\n"
          ]
        }
      ]
    },
    {
      "cell_type": "code",
      "source": [
        "knn = KNeighborsClassifier(algorithm = \"auto\", leaf_size = 30, n_jobs = -1, n_neighbors = 11,\n",
        "                           p = 1, weights = \"distance\")\n",
        "print(cross_validate(knn, X[selected_lr], y)[\"test_score\"].mean())\n",
        "# Best model with KNN give 71.29% accuracy"
      ],
      "metadata": {
        "id": "9jDjvAUpDXEe",
        "colab": {
          "base_uri": "https://localhost:8080/"
        },
        "outputId": "7ebb24e3-d1e7-4117-8e79-0dcdfbad629f"
      },
      "execution_count": null,
      "outputs": [
        {
          "output_type": "stream",
          "name": "stdout",
          "text": [
            "0.7129999999999999\n"
          ]
        }
      ]
    },
    {
      "cell_type": "markdown",
      "source": [
        "### Clasificador por Redes Neuronales\n"
      ],
      "metadata": {
        "id": "-xrLWLu8t94G"
      }
    },
    {
      "cell_type": "code",
      "source": [
        "mlp = MLPClassifier(hidden_layer_sizes = (20, 20, 20), max_iter = 750, random_state = 42) # Primero se usó (20, 20, 20) para hidden layer sizes, dado que es la cantidad de variables del conjunto con tres capas\n",
        "print(cross_validate(mlp, X, y)['test_score'].mean())\n",
        "# Default params & vals 67.9%"
      ],
      "metadata": {
        "colab": {
          "base_uri": "https://localhost:8080/"
        },
        "id": "1c47j6bF_AOW",
        "outputId": "d18af08f-2bf7-4b7f-a744-54b9bd6ba781"
      },
      "execution_count": null,
      "outputs": [
        {
          "output_type": "stream",
          "name": "stdout",
          "text": [
            "0.679\n"
          ]
        }
      ]
    },
    {
      "cell_type": "markdown",
      "source": [
        "#### Usando vars Random Forest (68.8%)"
      ],
      "metadata": {
        "id": "9ws6XcjVkYbt"
      }
    },
    {
      "cell_type": "code",
      "source": [
        "len(selected_fr)"
      ],
      "metadata": {
        "colab": {
          "base_uri": "https://localhost:8080/"
        },
        "id": "VitLN09TzLXJ",
        "outputId": "2063cbf6-c5e8-48a7-f350-27447cd5ca15"
      },
      "execution_count": null,
      "outputs": [
        {
          "output_type": "execute_result",
          "data": {
            "text/plain": [
              "16"
            ]
          },
          "metadata": {},
          "execution_count": 91
        }
      ]
    },
    {
      "cell_type": "code",
      "source": [
        "mlp = MLPClassifier(hidden_layer_sizes = (16, 16, 16), max_iter = 1000, random_state = 42) # Primero se usó (20, 20, 20) para hidden layer sizes, dado que es la cantidad de variables del conjunto con tres capas\n",
        "print(cross_validate(mlp, X[selected_fr], y)['test_score'].mean())"
      ],
      "metadata": {
        "colab": {
          "base_uri": "https://localhost:8080/"
        },
        "id": "ateaWjHclEqR",
        "outputId": "54ee297a-efe7-4d1d-93d8-63dd45ac8df2"
      },
      "execution_count": 113,
      "outputs": [
        {
          "output_type": "stream",
          "name": "stdout",
          "text": [
            "0.688\n"
          ]
        }
      ]
    },
    {
      "cell_type": "markdown",
      "source": [
        "#### Usando vars SVC (70.2%)"
      ],
      "metadata": {
        "id": "WYZ0HmYNka_6"
      }
    },
    {
      "cell_type": "code",
      "source": [
        "len(selected_svc)"
      ],
      "metadata": {
        "colab": {
          "base_uri": "https://localhost:8080/"
        },
        "id": "6_jFV_2tzheO",
        "outputId": "5d367293-a866-4cb1-f441-7db0825b0779"
      },
      "execution_count": null,
      "outputs": [
        {
          "output_type": "execute_result",
          "data": {
            "text/plain": [
              "17"
            ]
          },
          "metadata": {},
          "execution_count": 50
        }
      ]
    },
    {
      "cell_type": "code",
      "source": [
        "mlp = MLPClassifier(hidden_layer_sizes = (17, 17, 17), max_iter = 1000, random_state = 42) # Por ultimo se intentó con las variables del SVM\n",
        "print(cross_validate(mlp, X[selected_svc], y)['test_score'].mean())"
      ],
      "metadata": {
        "colab": {
          "base_uri": "https://localhost:8080/"
        },
        "id": "Pkmxv7jczKy8",
        "outputId": "796d2424-3316-4097-a6e5-781ae6c44ff7"
      },
      "execution_count": 112,
      "outputs": [
        {
          "output_type": "stream",
          "name": "stdout",
          "text": [
            "0.7020000000000001\n"
          ]
        }
      ]
    },
    {
      "cell_type": "markdown",
      "source": [
        "#### Usando vars Regresión Logística (70.89%)"
      ],
      "metadata": {
        "id": "YV5dYSy6kmO0"
      }
    },
    {
      "cell_type": "code",
      "source": [
        "len(selected_lr)"
      ],
      "metadata": {
        "colab": {
          "base_uri": "https://localhost:8080/"
        },
        "outputId": "6682e439-1e03-4223-96ce-63d42365c950",
        "id": "JS41eai_kMnO"
      },
      "execution_count": 107,
      "outputs": [
        {
          "output_type": "execute_result",
          "data": {
            "text/plain": [
              "16"
            ]
          },
          "metadata": {},
          "execution_count": 107
        }
      ]
    },
    {
      "cell_type": "code",
      "source": [
        "mlp = MLPClassifier(hidden_layer_sizes = (16, 16, 16, 16), max_iter = 1000, random_state = 42) # Por ultimo se intentó con las variables del SVM\n",
        "print(cross_validate(mlp, X[selected_lr], y)['test_score'].mean())"
      ],
      "metadata": {
        "colab": {
          "base_uri": "https://localhost:8080/"
        },
        "outputId": "33fe1109-e95b-40f4-e471-56a5c029d5ba",
        "id": "Mf3Rg9y_kMnQ"
      },
      "execution_count": 111,
      "outputs": [
        {
          "output_type": "stream",
          "name": "stdout",
          "text": [
            "0.7089999999999999\n"
          ]
        }
      ]
    },
    {
      "cell_type": "markdown",
      "source": [
        "#### Ajuste de parámetros"
      ],
      "metadata": {
        "id": "LMKU86c7kxcE"
      }
    },
    {
      "cell_type": "code",
      "source": [
        "# Ajuste de parámteros\n",
        "param_dict = {\n",
        "    \"hidden_layer_sizes\" : [(17, 17, 17, 17)],\n",
        "    \"solver\" : [\"adam\"],\n",
        "    \"alpha\" : [0.0001, 0.0005, 0.00075, 0.001, 0.0025, 0.0075, 0.005],\n",
        "    \"learning_rate\" : [\"constant\"],\n",
        "    \"activation\" : [\"relu\"],\n",
        "    \"learning_rate_init\" : [0.0001],\n",
        "    \"max_iter\" : [10000]\n",
        "}"
      ],
      "metadata": {
        "id": "ZW3YCcRkt3sY"
      },
      "execution_count": 129,
      "outputs": []
    },
    {
      "cell_type": "code",
      "source": [
        "mlp = MLPClassifier(random_state = 42)\n",
        "search_mlp = GridSearchCV(mlp, param_dict)\n",
        "search_mlp.fit(X_train[selected_svc], y_train)\n",
        "print(search_mlp.best_params_)"
      ],
      "metadata": {
        "colab": {
          "base_uri": "https://localhost:8080/"
        },
        "id": "WpEm-bjvTvlO",
        "outputId": "407275cb-da5c-4c98-cadb-bb4c36be1a82"
      },
      "execution_count": 130,
      "outputs": [
        {
          "output_type": "stream",
          "name": "stdout",
          "text": [
            "{'activation': 'relu', 'alpha': 0.0005, 'hidden_layer_sizes': (17, 17, 17, 17), 'learning_rate': 'constant', 'learning_rate_init': 0.0001, 'max_iter': 10000, 'solver': 'adam'}\n"
          ]
        }
      ]
    },
    {
      "cell_type": "code",
      "source": [
        "mlp = MLPClassifier(max_iter = 10000, learning_rate_init = 0.0001, random_state = 42, activation = \"relu\",\n",
        "                   hidden_layer_sizes = (17, 17, 17, 17), learning_rate = \"constant\", solver = \"adam\", alpha = 0.0005)\n",
        "print(cross_validate(mlp, X[selected_svc], y)['test_score'].mean())"
      ],
      "metadata": {
        "colab": {
          "base_uri": "https://localhost:8080/"
        },
        "id": "nuIjD7DqTyEV",
        "outputId": "4acf0a5f-cb3b-439c-c6d5-9f2bfb98ac0f"
      },
      "execution_count": 131,
      "outputs": [
        {
          "output_type": "stream",
          "name": "stdout",
          "text": [
            "0.7470000000000001\n"
          ]
        }
      ]
    },
    {
      "cell_type": "markdown",
      "source": [
        "## Selección de modelos"
      ],
      "metadata": {
        "id": "EPDHm59H3m5X"
      }
    },
    {
      "cell_type": "markdown",
      "source": [
        "Mejores resultados:\n",
        "Obtenidos del promedio de \"test_score\" que nos dió la cross_validation de cada modelo con la totalidad de X y Y\n",
        "\n",
        "*   Random Forest: 73.82%\n",
        "*   Support Vector Machine: 73.10%\n",
        "*   Regresión Logística: 76.85%\n",
        "*   K Nearest Neighbors: 71.29%\n",
        "*   Redes Neuronales: 74.70%\n",
        "\n"
      ],
      "metadata": {
        "id": "mwzs2vX83udQ"
      }
    }
  ]
}